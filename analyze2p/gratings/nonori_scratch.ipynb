{
 "cells": [
  {
   "cell_type": "code",
   "execution_count": 21,
   "id": "extreme-wagon",
   "metadata": {},
   "outputs": [],
   "source": [
    "import os\n",
    "import glob\n",
    "import numpy as np\n",
    "import pandas as pd\n",
    "import analyze2p.aggregate_datasets as aggr\n",
    "import analyze2p.extraction.traces as traceutils"
   ]
  },
  {
   "cell_type": "code",
   "execution_count": 7,
   "id": "renewable-knife",
   "metadata": {},
   "outputs": [],
   "source": [
    "trial_epoch='stimulus'\n",
    "experiment='gratings'\n",
    "visual_areas=['V1', 'Lm', 'Li']"
   ]
  },
  {
   "cell_type": "code",
   "execution_count": 8,
   "id": "optimum-sigma",
   "metadata": {},
   "outputs": [],
   "source": [
    "va='V1'\n",
    "dk='20191006_JC110_fov1'"
   ]
  },
  {
   "cell_type": "code",
   "execution_count": 9,
   "id": "modular-writing",
   "metadata": {},
   "outputs": [
    {
     "name": "stdout",
     "output_type": "stream",
     "text": [
      "/n/coxfs01/julianarhee/aggregate-visual-areas/dataset_info_assigned.pkl\n",
      "Segmentation: missing 13 dsets\n"
     ]
    }
   ],
   "source": [
    "sdata, cells0 = aggr.get_aggregate_info(visual_areas=visual_areas, return_cells=True)\n",
    "curr_cells = cells0[(cells0.visual_area==va) & (cells0.datakey==dk)]"
   ]
  },
  {
   "cell_type": "code",
   "execution_count": 22,
   "id": "chicken-emphasis",
   "metadata": {},
   "outputs": [],
   "source": [
    "traceid='traces001'\n",
    "response_type='dff'\n",
    "responsive_test='ROC'\n",
    "responsive_thr=0.05"
   ]
  },
  {
   "cell_type": "code",
   "execution_count": 45,
   "id": "compressed-bailey",
   "metadata": {},
   "outputs": [],
   "source": [
    "ndf_wide = aggr.get_neuraldf(dk, experiment='gratings', traceid=traceid,\n",
    "                   epoch=trial_epoch, response_type=response_type,\n",
    "                   responsive_test=responsive_test, responsive_thr=responsive_thr)\n",
    "ndf_long = pd.melt(ndf_wide, id_vars=['config'], \n",
    "              var_name='cell', value_name='response')\n",
    "all_cells = curr_cells['cell'].unique()\n",
    "ndf = ndf_long[ndf_long['cell'].isin(all_cells)]\n"
   ]
  },
  {
   "cell_type": "code",
   "execution_count": 57,
   "id": "special-oriental",
   "metadata": {},
   "outputs": [],
   "source": [
    "rdf_list = [g for rid, g in ndf.groupby('cell')]\n"
   ]
  },
  {
   "cell_type": "code",
   "execution_count": 58,
   "id": "thorough-kentucky",
   "metadata": {},
   "outputs": [
    {
     "data": {
      "text/html": [
       "<div>\n",
       "<style scoped>\n",
       "    .dataframe tbody tr th:only-of-type {\n",
       "        vertical-align: middle;\n",
       "    }\n",
       "\n",
       "    .dataframe tbody tr th {\n",
       "        vertical-align: top;\n",
       "    }\n",
       "\n",
       "    .dataframe thead th {\n",
       "        text-align: right;\n",
       "    }\n",
       "</style>\n",
       "<table border=\"1\" class=\"dataframe\">\n",
       "  <thead>\n",
       "    <tr style=\"text-align: right;\">\n",
       "      <th></th>\n",
       "      <th>config</th>\n",
       "      <th>cell</th>\n",
       "      <th>response</th>\n",
       "    </tr>\n",
       "  </thead>\n",
       "  <tbody>\n",
       "    <tr>\n",
       "      <th>0</th>\n",
       "      <td>config026</td>\n",
       "      <td>5</td>\n",
       "      <td>0.409966</td>\n",
       "    </tr>\n",
       "    <tr>\n",
       "      <th>1</th>\n",
       "      <td>config010</td>\n",
       "      <td>5</td>\n",
       "      <td>0.250159</td>\n",
       "    </tr>\n",
       "    <tr>\n",
       "      <th>2</th>\n",
       "      <td>config064</td>\n",
       "      <td>5</td>\n",
       "      <td>0.003412</td>\n",
       "    </tr>\n",
       "    <tr>\n",
       "      <th>3</th>\n",
       "      <td>config049</td>\n",
       "      <td>5</td>\n",
       "      <td>0.357665</td>\n",
       "    </tr>\n",
       "    <tr>\n",
       "      <th>4</th>\n",
       "      <td>config016</td>\n",
       "      <td>5</td>\n",
       "      <td>0.123554</td>\n",
       "    </tr>\n",
       "    <tr>\n",
       "      <th>...</th>\n",
       "      <td>...</td>\n",
       "      <td>...</td>\n",
       "      <td>...</td>\n",
       "    </tr>\n",
       "    <tr>\n",
       "      <th>1275</th>\n",
       "      <td>config036</td>\n",
       "      <td>5</td>\n",
       "      <td>-0.062847</td>\n",
       "    </tr>\n",
       "    <tr>\n",
       "      <th>1276</th>\n",
       "      <td>config020</td>\n",
       "      <td>5</td>\n",
       "      <td>0.129575</td>\n",
       "    </tr>\n",
       "    <tr>\n",
       "      <th>1277</th>\n",
       "      <td>config046</td>\n",
       "      <td>5</td>\n",
       "      <td>0.002156</td>\n",
       "    </tr>\n",
       "    <tr>\n",
       "      <th>1278</th>\n",
       "      <td>config050</td>\n",
       "      <td>5</td>\n",
       "      <td>0.190556</td>\n",
       "    </tr>\n",
       "    <tr>\n",
       "      <th>1279</th>\n",
       "      <td>config007</td>\n",
       "      <td>5</td>\n",
       "      <td>0.035078</td>\n",
       "    </tr>\n",
       "  </tbody>\n",
       "</table>\n",
       "<p>1280 rows × 3 columns</p>\n",
       "</div>"
      ],
      "text/plain": [
       "         config cell  response\n",
       "0     config026    5  0.409966\n",
       "1     config010    5  0.250159\n",
       "2     config064    5  0.003412\n",
       "3     config049    5  0.357665\n",
       "4     config016    5  0.123554\n",
       "...         ...  ...       ...\n",
       "1275  config036    5 -0.062847\n",
       "1276  config020    5  0.129575\n",
       "1277  config046    5  0.002156\n",
       "1278  config050    5  0.190556\n",
       "1279  config007    5  0.035078\n",
       "\n",
       "[1280 rows x 3 columns]"
      ]
     },
     "execution_count": 58,
     "metadata": {},
     "output_type": "execute_result"
    }
   ],
   "source": [
    "rdf_list[0]"
   ]
  },
  {
   "cell_type": "code",
   "execution_count": 54,
   "id": "graphic-prior",
   "metadata": {},
   "outputs": [
    {
     "data": {
      "text/plain": [
       "<module 'analyze2p.gratings.utils' from '/net/coxfs01/srv/export/coxfs01/share_root/2p-pipeline/repos/rat-2p-area-characterizations/analyze2p/gratings/utils.py'>"
      ]
     },
     "execution_count": 54,
     "metadata": {},
     "output_type": "execute_result"
    }
   ],
   "source": [
    "importlib.reload(gutils)"
   ]
  },
  {
   "cell_type": "code",
   "execution_count": 55,
   "id": "bibliographic-clark",
   "metadata": {},
   "outputs": [
    {
     "name": "stdout",
     "output_type": "stream",
     "text": [
      "/n/coxfs01/julianarhee/aggregate-visual-areas/dataset_info_assigned.pkl\n",
      "Segmentation: missing 13 dsets\n",
      "   saved.\n"
     ]
    }
   ],
   "source": [
    "test = gutils.fit_nonori_params(va, dk)\n"
   ]
  },
  {
   "cell_type": "code",
   "execution_count": 56,
   "id": "concrete-magnet",
   "metadata": {},
   "outputs": [
    {
     "data": {
      "text/html": [
       "<div>\n",
       "<style scoped>\n",
       "    .dataframe tbody tr th:only-of-type {\n",
       "        vertical-align: middle;\n",
       "    }\n",
       "\n",
       "    .dataframe tbody tr th {\n",
       "        vertical-align: top;\n",
       "    }\n",
       "\n",
       "    .dataframe thead th {\n",
       "        text-align: right;\n",
       "    }\n",
       "</style>\n",
       "<table border=\"1\" class=\"dataframe\">\n",
       "  <thead>\n",
       "    <tr style=\"text-align: right;\">\n",
       "      <th></th>\n",
       "      <th></th>\n",
       "      <th>value</th>\n",
       "      <th>reject_null</th>\n",
       "    </tr>\n",
       "    <tr>\n",
       "      <th>cell</th>\n",
       "      <th>param</th>\n",
       "      <th></th>\n",
       "      <th></th>\n",
       "    </tr>\n",
       "  </thead>\n",
       "  <tbody>\n",
       "    <tr>\n",
       "      <th rowspan=\"4\" valign=\"top\">5</th>\n",
       "      <th>sf</th>\n",
       "      <td>-0.314664</td>\n",
       "      <td>True</td>\n",
       "    </tr>\n",
       "    <tr>\n",
       "      <th>size</th>\n",
       "      <td>-0.401966</td>\n",
       "      <td>True</td>\n",
       "    </tr>\n",
       "    <tr>\n",
       "      <th>speed</th>\n",
       "      <td>-0.101637</td>\n",
       "      <td>False</td>\n",
       "    </tr>\n",
       "    <tr>\n",
       "      <th>ori</th>\n",
       "      <td>270.000000</td>\n",
       "      <td>True</td>\n",
       "    </tr>\n",
       "    <tr>\n",
       "      <th>6</th>\n",
       "      <th>sf</th>\n",
       "      <td>-0.147684</td>\n",
       "      <td>True</td>\n",
       "    </tr>\n",
       "    <tr>\n",
       "      <th>...</th>\n",
       "      <th>...</th>\n",
       "      <td>...</td>\n",
       "      <td>...</td>\n",
       "    </tr>\n",
       "    <tr>\n",
       "      <th>387</th>\n",
       "      <th>ori</th>\n",
       "      <td>270.000000</td>\n",
       "      <td>True</td>\n",
       "    </tr>\n",
       "    <tr>\n",
       "      <th rowspan=\"4\" valign=\"top\">390</th>\n",
       "      <th>sf</th>\n",
       "      <td>0.013838</td>\n",
       "      <td>False</td>\n",
       "    </tr>\n",
       "    <tr>\n",
       "      <th>size</th>\n",
       "      <td>-0.205493</td>\n",
       "      <td>True</td>\n",
       "    </tr>\n",
       "    <tr>\n",
       "      <th>speed</th>\n",
       "      <td>0.012430</td>\n",
       "      <td>False</td>\n",
       "    </tr>\n",
       "    <tr>\n",
       "      <th>ori</th>\n",
       "      <td>180.000000</td>\n",
       "      <td>True</td>\n",
       "    </tr>\n",
       "  </tbody>\n",
       "</table>\n",
       "<p>356 rows × 2 columns</p>\n",
       "</div>"
      ],
      "text/plain": [
       "                 value  reject_null\n",
       "cell param                         \n",
       "5    sf      -0.314664         True\n",
       "     size    -0.401966         True\n",
       "     speed   -0.101637        False\n",
       "     ori    270.000000         True\n",
       "6    sf      -0.147684         True\n",
       "...                ...          ...\n",
       "387  ori    270.000000         True\n",
       "390  sf       0.013838        False\n",
       "     size    -0.205493         True\n",
       "     speed    0.012430        False\n",
       "     ori    180.000000         True\n",
       "\n",
       "[356 rows x 2 columns]"
      ]
     },
     "execution_count": 56,
     "metadata": {},
     "output_type": "execute_result"
    }
   ],
   "source": [
    "test"
   ]
  },
  {
   "cell_type": "code",
   "execution_count": null,
   "id": "single-biography",
   "metadata": {},
   "outputs": [],
   "source": [
    "# def fit_nonori_params(va, dk, responsive_test='ROC', responsive_thr=0.05,\n",
    "#                       trial_epoch='stimulus', n_iterations=100,\n",
    "#                       param_list=['sf', 'size', 'speed'],\n",
    "#                       n_bootstrap_iters=500, ci=95,\n",
    "#                       response_type='dff', traceid='traces001', \n",
    "#                       visual_areas=['V1', 'Lm', 'Li']):\n",
    "#     # Get fit dir\n",
    "#     ori_fit_desc = get_fit_desc(response_type=response_type,\n",
    "#                             responsive_test=responsive_test, \n",
    "#                             responsive_thr=responsive_thr, \n",
    "#                             n_bootstrap_iters=n_bootstrap_iters)\n",
    "#     traceid_dir = traceutils.get_traceid_dir(dk, 'gratings', traceid='traces001')\n",
    "#     fitdirs = glob.glob(os.path.join(traceid_dir, 'tuning*', ori_fit_desc))\n",
    "#     if len(fitdirs)==0:\n",
    "#         print(\"no fits: %s\" % dk)\n",
    "#         return None\n",
    "#     # outfile\n",
    "#     fitdir=fitdirs[0]\n",
    "#     tmp_fov_outfile = os.path.join(fitdir, 'results_nonori_params.pkl')\n",
    "    \n",
    "#     # Get cells in area\n",
    "#     sdata, cells0 = aggr.get_aggregate_info(visual_areas=visual_areas, \n",
    "#                                             return_cells=True)\n",
    "#     curr_cells = cells0[(cells0.visual_area==va) & (cells0.datakey==dk)]\n",
    "#     # Get stimuli\n",
    "#     sdf = aggr.get_stimuli(dk, experiment='gratings')\n",
    "#     # Get neuraldata\n",
    "#     ndf_wide = aggr.get_neuraldf(dk, experiment='gratings', traceid=traceid,\n",
    "#                        epoch=trial_epoch, response_type=response_type,\n",
    "#                        responsive_test=responsive_test, responsive_thr=responsive_thr)\n",
    "#     ndf_long = pd.melt(ndf_wide, id_vars=['config'], \n",
    "#                   var_name='cell', value_name='response')\n",
    "#     all_cells = curr_cells['cell'].unique()\n",
    "#     ndf = ndf_long[ndf_long['cell'].isin(all_cells)]\n",
    "    \n",
    "#     # Get preference index for all cells in FOV that pass\n",
    "#     ixs_ = ndf.groupby('cell').apply(bootstrap_nonori_index,\\\n",
    "#                              sdf, param_list=param_list, offset=offset,\n",
    "#                              n_iterations=n_iterations, ci=ci)\n",
    "#     # Save iter results\n",
    "#     with open(tmp_fov_outfile, 'wb') as f:\n",
    "#         pkl.dump(ixs_, f, protocol=2)\n",
    "#     print(\"   saved.\")\n",
    "    \n",
    "#     return ixs_"
   ]
  },
  {
   "cell_type": "code",
   "execution_count": null,
   "id": "naval-financing",
   "metadata": {},
   "outputs": [],
   "source": [
    "gutils.bootstrap_nonori_index"
   ]
  }
 ],
 "metadata": {
  "kernelspec": {
   "display_name": "Python 3",
   "language": "python",
   "name": "python3"
  },
  "language_info": {
   "codemirror_mode": {
    "name": "ipython",
    "version": 3
   },
   "file_extension": ".py",
   "mimetype": "text/x-python",
   "name": "python",
   "nbconvert_exporter": "python",
   "pygments_lexer": "ipython3",
   "version": "3.7.10"
  }
 },
 "nbformat": 4,
 "nbformat_minor": 5
}
