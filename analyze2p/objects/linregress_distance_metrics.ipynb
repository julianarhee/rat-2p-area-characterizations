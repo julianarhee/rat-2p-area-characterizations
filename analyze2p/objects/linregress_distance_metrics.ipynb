{
 "cells": [
  {
   "cell_type": "code",
   "execution_count": null,
   "id": "permanent-laser",
   "metadata": {},
   "outputs": [],
   "source": []
  },
  {
   "cell_type": "code",
   "execution_count": null,
   "id": "false-present",
   "metadata": {},
   "outputs": [],
   "source": [
    "from sklearn.model_selection import train_test_split\n",
    "from sklearn.linear_model import LinearRegression\n",
    "from sklearn.preprocessing import StandardScaler\n",
    "import sklearn.metrics as skmetrics\n"
   ]
  },
  {
   "cell_type": "code",
   "execution_count": null,
   "id": "canadian-chambers",
   "metadata": {},
   "outputs": [],
   "source": [
    "# def fit_data(data1, y_var='pearsons_size', x_var='cortical_distance_label'):\n",
    "#     ydata = data1[y_var].copy()\n",
    "#     xdata0 = data1[x_var].copy()\n",
    "#     xdata0 = xdata0[:, np.newaxis]\n",
    "#     xdata = StandardScaler().fit_transform(xdata0) #xd = scaler.fit_transform(xdata)\n",
    "#     xdata_scaled = pd.DataFrame(np.squeeze(xdata), columns=[x_var])\n",
    "#     xdata_scaled.dropna().head()\n",
    "#     # Split data\n",
    "#     x_train, x_test, y_train, y_test = train_test_split(xdata_scaled, \n",
    "#                                         ydata, test_size = 0.2, random_state = 42)\n",
    "#     LR = LinearRegression().fit(x_train,y_train)\n",
    "#     # predicting the accuracy score\n",
    "#     y_prediction =  LR.predict(x_test)\n",
    "#     R2=skmetrics.r2_score(y_test,y_prediction)\n",
    "#     MSE = skmetrics.mean_squared_error(y_test,y_prediction)\n",
    "#     print('r2 score: %.2f' % R2)\n",
    "#     print('mean_sqrd_error: %.2f' % MSE)\n",
    "#     print('RMSE: %.2f' % np.sqrt(MSE))\n",
    "#     residuals = y_test.values - y_prediction\n",
    "#     variance_resid = np.var(residuals)\n",
    "#     variance_test = np.var(y_test)\n",
    "#     variance_explained = 1-(variance_resid/variance_test)\n",
    "#     print(variance_explained)\n",
    "\n",
    "#     return LR, x_test, y_test\n",
    "\n",
    "def fit_data(data1, y_var='pearsons_size', x_var='cortical_distance_label'):\n",
    "    ydata = data1[y_var].copy()\n",
    "    xdata0 = data1[x_var].copy()\n",
    "    xdata0 = xdata0[:, np.newaxis]\n",
    "    xdata = StandardScaler().fit_transform(xdata0) #xd = scaler.fit_transform(xdata)\n",
    "    xdata_scaled = pd.DataFrame(np.squeeze(xdata), columns=[x_var])\n",
    "    xdata_scaled.dropna().head()\n",
    "    # Split data\n",
    "    LR = LinearRegression().fit(xdata_scaled,ydata)\n",
    "    # predicting the accuracy score\n",
    "    y_prediction =  LR.predict(xdata_scaled)\n",
    "    R2=skmetrics.r2_score(ydata,y_prediction)\n",
    "    MSE = skmetrics.mean_squared_error(ydata,y_prediction)\n",
    "    print('r2 score: %.2f' % R2)\n",
    "    print('mean_sqrd_error: %.2f' % MSE)\n",
    "    print('RMSE: %.2f' % np.sqrt(MSE))\n",
    "    residuals = ydata.values - y_prediction\n",
    "    variance_resid = np.var(residuals)\n",
    "    variance_test = np.var(ydata)\n",
    "    variance_explained = 1-(variance_resid/variance_test)\n",
    "    print(variance_explained)\n",
    "\n",
    "    return LR, xdata_scaled, ydata\n"
   ]
  },
  {
   "cell_type": "code",
   "execution_count": null,
   "id": "invalid-conviction",
   "metadata": {},
   "outputs": [],
   "source": [
    "\n",
    "ctx_maxdist=500\n",
    "df, dist_lut = cr.get_bins_and_cut(DISTS[DISTS.cortical_distance<=ctx_maxdist], \n",
    "                                   ctx_step=50, overlap_step=0.05,\n",
    "                                   equal_bins=False)\n",
    "va = 'Li'\n",
    "vg = df[(df.visual_area==va)].copy().dropna()\n",
    "print(vg.cortical_distance.max())\n",
    "factors =['%s_label' % x for x in dist_vars]\n",
    "print(factors)"
   ]
  },
  {
   "cell_type": "code",
   "execution_count": null,
   "id": "necessary-cathedral",
   "metadata": {},
   "outputs": [],
   "source": [
    "var1, var2 = factors\n",
    "\n",
    "data1 = vg.groupby([var1, 'datakey']).median().reset_index()\n",
    "data2 = vg.groupby([var2, 'datakey']).median().reset_index()"
   ]
  },
  {
   "cell_type": "code",
   "execution_count": null,
   "id": "representative-portuguese",
   "metadata": {},
   "outputs": [],
   "source": [
    "scatter_kws={'s': 1, 'alpha': 0.5, 'color': 'k'}\n",
    "fig, axn = pl.subplots(1, 2, figsize=(6,3))\n",
    "\n",
    "ax=axn[0]\n",
    "sns.regplot(x=var1, y='pearsons_size', data=data1, ax=ax,\n",
    "            scatter_kws=scatter_kws)\n",
    "ax=axn[1]\n",
    "sns.regplot(x=var2, y='pearsons_size', data=data2, ax=ax,\n",
    "            scatter_kws=scatter_kws)\n",
    "pl.subplots_adjust(bottom=0.2, right=0.8)\n"
   ]
  },
  {
   "cell_type": "code",
   "execution_count": null,
   "id": "tribal-unemployment",
   "metadata": {},
   "outputs": [],
   "source": [
    "fig, ax = pl.subplots()\n",
    "sns.regplot(vg[var1].values, vg[var2].values, ax=ax)\n",
    "ax.set_box_aspect(1)\n",
    "pl.subplots_adjust(bottom=0.2, right=0.9)\n",
    "print(spstats.pearsonr(vg[var1].values, vg[var2].values))\n"
   ]
  },
  {
   "cell_type": "code",
   "execution_count": null,
   "id": "relative-ticket",
   "metadata": {},
   "outputs": [],
   "source": [
    "# Fit to cortical dist (var1)\n",
    "LR1, xdata1, ydata1 = fit_data(data1, y_var='pearsons_size', x_var=var1)\n",
    "y_prediction1 = LR.predict(xdata1)\n",
    "# Fit to RF overlap (var2)\n",
    "LR2, xdata2, ydata2 = fit_data(data2, y_var='pearsons_size', x_var=var2)\n",
    "y_prediction2 = LR2.predict(x_test2)\n",
    "\n",
    "fig, axn = pl.subplots(1,3, figsize=(6,3))\n",
    "ax=axn[0]\n",
    "ax.plot(xdata1, ydata1, color='k',marker='.', lw=0)\n",
    "ax.plot(xdata1, y_prediction1, color='r',marker='.', lw=0)\n",
    "ax.set_title(var1)\n",
    "ax.set_box_aspect(1)\n",
    "ax=axn[1]\n",
    "ax.plot(x_test2, y_test2, color='k',marker='.', lw=0)\n",
    "ax.plot(x_test2, y_prediction2, color='r',marker='.', lw=0)\n",
    "ax.set_title(var2)\n",
    "ax.set_box_aspect(1)\n",
    "\n",
    "ax=axn[2]\n",
    "residuals2 = ydata2 - y_prediction2\n",
    "sns.barplot(x=xdata2[var2], y=residuals2, ax=ax, ci=None)\n",
    "ax.set_box_aspect(1)\n",
    "xbins = sorted(xdata2[var2].unique())\n",
    "xticks= np.arange(0, len(xbins))\n",
    "ax.set_xticks(xticks)\n",
    "ax.set_xticklabels([round(xbins[i],1) if i in xticks[0::5] else '' \\\n",
    "                   for i in xticks])\n",
    "\n",
    "pl.subplots_adjust(bottom=0.3, right=0.8, wspace=0.5)\n"
   ]
  },
  {
   "cell_type": "code",
   "execution_count": null,
   "id": "attempted-logan",
   "metadata": {},
   "outputs": [],
   "source": []
  },
  {
   "cell_type": "code",
   "execution_count": null,
   "id": "activated-inquiry",
   "metadata": {},
   "outputs": [],
   "source": []
  },
  {
   "cell_type": "code",
   "execution_count": null,
   "id": "super-finder",
   "metadata": {},
   "outputs": [],
   "source": [
    "ydata = residuals2.copy()\n",
    "\n",
    "xdata0 = data2[var1].copy()\n",
    "xdata0 = xdata0[:, np.newaxis]\n",
    "xdata = StandardScaler().fit_transform(xdata0) #xd = scaler.fit_transform(xdata)\n",
    "xdata_scaled = pd.DataFrame(np.squeeze(xdata), columns=[x_var])\n",
    "xdata_scaled.dropna().head()\n",
    "\n",
    "# Split data\n",
    "LR = LinearRegression().fit(xdata_scaled,ydata)\n",
    "# predicting the accuracy score\n",
    "y_prediction =  LR.predict(xdata_scaled)\n",
    "R2=skmetrics.r2_score(ydata,y_prediction)\n",
    "MSE = skmetrics.mean_squared_error(ydata,y_prediction)\n",
    "print('r2 score: %.2f' % R2)\n",
    "print('mean_sqrd_error: %.2f' % MSE)\n",
    "print('RMSE: %.2f' % np.sqrt(MSE))\n",
    "residuals = ydata.values - y_prediction\n",
    "variance_resid = np.var(residuals)\n",
    "variance_test = np.var(ydata)\n",
    "variance_explained = 1-(variance_resid/variance_test)\n",
    "print(variance_explained)"
   ]
  },
  {
   "cell_type": "code",
   "execution_count": null,
   "id": "therapeutic-fourth",
   "metadata": {},
   "outputs": [],
   "source": []
  },
  {
   "cell_type": "code",
   "execution_count": null,
   "id": "central-insured",
   "metadata": {},
   "outputs": [],
   "source": [
    "data_ = vg.groupby([var1, var2, 'datakey']).median().reset_index()\n",
    "\n",
    "fig, axn = pl.subplots(1, 2, figsize=(6,3))\n",
    "ax=axn[0]\n",
    "sns.regplot(x=var1, y='pearsons_size', data=data_, ax=ax,\n",
    "            scatter_kws=scatter_kws)\n",
    "ax=axn[1]\n",
    "sns.regplot(x=var2, y='pearsons_size', data=data_, ax=ax,\n",
    "            scatter_kws=scatter_kws)\n",
    "pl.subplots_adjust(bottom=0.2, right=0.8)\n"
   ]
  },
  {
   "cell_type": "code",
   "execution_count": null,
   "id": "similar-instrument",
   "metadata": {},
   "outputs": [],
   "source": []
  },
  {
   "cell_type": "code",
   "execution_count": null,
   "id": "hydraulic-terrorism",
   "metadata": {},
   "outputs": [],
   "source": [
    "metric = 'pearsons_size'\n",
    "ydata = data_[metric].copy()\n",
    "xdata0 = data_[factors].copy()\n",
    "#xdata0 = xdata0[:, np.newaxis]\n",
    "xdata = StandardScaler().fit_transform(xdata0) #xd = scaler.fit_transform(xdata)\n",
    "xdata_scaled = pd.DataFrame(np.squeeze(xdata), columns=[factors])\n",
    "xdata_scaled.dropna().head()\n",
    "\n",
    "# Split data\n",
    "LR = LinearRegression().fit(xdata_scaled,ydata)\n",
    "# predicting the accuracy score\n",
    "y_prediction =  LR.predict(xdata_scaled)\n",
    "R2=skmetrics.r2_score(ydata,y_prediction)\n",
    "MSE = skmetrics.mean_squared_error(ydata,y_prediction)\n",
    "print('r2 score: %.2f' % R2)\n",
    "print('mean_sqrd_error: %.2f' % MSE)\n",
    "print('RMSE: %.2f' % np.sqrt(MSE))\n",
    "residuals = ydata.values - y_prediction\n",
    "variance_resid = np.var(residuals)\n",
    "variance_test = np.var(ydata)\n",
    "variance_explained = 1-(variance_resid/variance_test)\n",
    "print(variance_explained)"
   ]
  },
  {
   "cell_type": "code",
   "execution_count": null,
   "id": "appointed-twist",
   "metadata": {},
   "outputs": [],
   "source": []
  }
 ],
 "metadata": {
  "kernelspec": {
   "display_name": "Python 3",
   "language": "python",
   "name": "python3"
  },
  "language_info": {
   "codemirror_mode": {
    "name": "ipython",
    "version": 3
   },
   "file_extension": ".py",
   "mimetype": "text/x-python",
   "name": "python",
   "nbconvert_exporter": "python",
   "pygments_lexer": "ipython3",
   "version": "3.7.10"
  }
 },
 "nbformat": 4,
 "nbformat_minor": 5
}
