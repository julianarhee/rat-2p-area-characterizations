{
 "cells": [
  {
   "cell_type": "code",
   "execution_count": 1,
   "id": "disciplinary-programmer",
   "metadata": {},
   "outputs": [],
   "source": [
    "import os\n",
    "import glob\n",
    "import copy\n",
    "import pandas as pd\n",
    "import pylab as pl\n",
    "import seaborn as sns\n",
    "\n",
    "import psignifit as ps\n",
    "import _pickle as pkl\n"
   ]
  },
  {
   "cell_type": "code",
   "execution_count": 2,
   "id": "assured-terminal",
   "metadata": {},
   "outputs": [
    {
     "name": "stderr",
     "output_type": "stream",
     "text": [
      "/n/coxfs01/2p-pipeline/envs/rat2p/lib/python3.7/site-packages/outdated/utils.py:18: OutdatedPackageWarning: The package pingouin is out of date. Your version is 0.3.10, the latest is 0.4.0.\n",
      "Set the environment variable OUTDATED_IGNORE=1 to disable these warnings.\n",
      "  **kwargs\n"
     ]
    }
   ],
   "source": [
    "import analyze2p.plotting as pplot"
   ]
  },
  {
   "cell_type": "code",
   "execution_count": 4,
   "id": "bigger-celtic",
   "metadata": {},
   "outputs": [],
   "source": [
    "src_dir = os.path.join('/n/coxfs01/behavior-data/threeport')\n",
    "fit_dir = os.path.join(src_dir, 'processed/morphs/fits')"
   ]
  },
  {
   "cell_type": "code",
   "execution_count": 6,
   "id": "assured-boost",
   "metadata": {
    "scrolled": true
   },
   "outputs": [
    {
     "data": {
      "text/plain": [
       "['fits_gauss_AG2.pkl',\n",
       " 'fits_gauss_AG3.pkl',\n",
       " 'fits_gauss_AG4.pkl',\n",
       " 'fits_gauss_AG6.pkl',\n",
       " 'fits_gauss_AG8.pkl',\n",
       " 'fits_gauss_AG9.pkl',\n",
       " 'fits_gauss_AG10.pkl',\n",
       " 'fits_gauss_AG11.pkl',\n",
       " 'fits_gauss_AN3.pkl',\n",
       " 'fits_gauss_AN4.pkl',\n",
       " 'fits_gauss_AN5.pkl',\n",
       " 'fits_gauss_AN6.pkl',\n",
       " 'fits_gauss_AN7.pkl',\n",
       " 'fits_m22-gauss_AG10.pkl',\n",
       " 'fits_m22-gauss_AG11.pkl',\n",
       " 'fits_m22-gauss_AG2.pkl',\n",
       " 'fits_m22-gauss_AG3.pkl',\n",
       " 'fits_m22-gauss_AG4.pkl',\n",
       " 'fits_m22-gauss_AG6.pkl',\n",
       " 'fits_m22-gauss_AG8.pkl',\n",
       " 'fits_m22-gauss_AG9.pkl',\n",
       " 'fits_m22-gauss_AN3.pkl',\n",
       " 'fits_m22-gauss_AN4.pkl',\n",
       " 'fits_m22-gauss_AN5.pkl',\n",
       " 'fits_m22-gauss_AN6.pkl',\n",
       " 'fits_m22-gauss_AN7.pkl',\n",
       " 'fits_m22-gauss_AG10.pkl.npy']"
      ]
     },
     "execution_count": 6,
     "metadata": {},
     "output_type": "execute_result"
    }
   ],
   "source": [
    "os.listdir(fit_dir)"
   ]
  },
  {
   "cell_type": "code",
   "execution_count": 10,
   "id": "romance-wings",
   "metadata": {},
   "outputs": [],
   "source": [
    "param_names = ['threshold', 'width', 'lambda', 'gamma', 'eta']\n"
   ]
  },
  {
   "cell_type": "code",
   "execution_count": 8,
   "id": "rubber-lightning",
   "metadata": {},
   "outputs": [
    {
     "ename": "IndexError",
     "evalue": "list index out of range",
     "output_type": "error",
     "traceback": [
      "\u001b[0;31m---------------------------------------------------------------------------\u001b[0m",
      "\u001b[0;31mIndexError\u001b[0m                                Traceback (most recent call last)",
      "\u001b[0;32m<ipython-input-8-22effb6e07ac>\u001b[0m in \u001b[0;36m<module>\u001b[0;34m\u001b[0m\n\u001b[1;32m      1\u001b[0m \u001b[0mprefix\u001b[0m \u001b[0;34m=\u001b[0m \u001b[0;34m'fits_m22-gauss'\u001b[0m\u001b[0;34m\u001b[0m\u001b[0;34m\u001b[0m\u001b[0m\n\u001b[0;32m----> 2\u001b[0;31m \u001b[0maggr_fpath\u001b[0m \u001b[0;34m=\u001b[0m \u001b[0mglob\u001b[0m\u001b[0;34m.\u001b[0m\u001b[0mglob\u001b[0m\u001b[0;34m(\u001b[0m\u001b[0mos\u001b[0m\u001b[0;34m.\u001b[0m\u001b[0mpath\u001b[0m\u001b[0;34m.\u001b[0m\u001b[0mjoin\u001b[0m\u001b[0;34m(\u001b[0m\u001b[0mfit_dir\u001b[0m\u001b[0;34m,\u001b[0m \u001b[0;34m'aggr_%s*.pkl'\u001b[0m \u001b[0;34m%\u001b[0m \u001b[0mprefix\u001b[0m\u001b[0;34m)\u001b[0m\u001b[0;34m)\u001b[0m\u001b[0;34m[\u001b[0m\u001b[0;36m0\u001b[0m\u001b[0;34m]\u001b[0m\u001b[0;34m\u001b[0m\u001b[0;34m\u001b[0m\u001b[0m\n\u001b[0m",
      "\u001b[0;31mIndexError\u001b[0m: list index out of range"
     ]
    }
   ],
   "source": [
    "prefix = 'fits_m22-gauss'\n",
    "aggr_fpath = glob.glob(os.path.join(fit_dir, 'aggr_%s*.pkl' % prefix))[0]"
   ]
  },
  {
   "cell_type": "code",
   "execution_count": 22,
   "id": "applicable-moore",
   "metadata": {},
   "outputs": [],
   "source": [
    "animalid = os.path.splitext(os.path.split(fn)[-1])[0].split(prefix)[-1][1:]\n",
    "\n"
   ]
  },
  {
   "cell_type": "code",
   "execution_count": 24,
   "id": "designed-rwanda",
   "metadata": {},
   "outputs": [
    {
     "name": "stdout",
     "output_type": "stream",
     "text": [
      "13\n"
     ]
    }
   ],
   "source": [
    "fpaths = glob.glob(os.path.join(fit_dir, '%s*.pkl' % prefix))\n",
    "print(len(fpaths))\n",
    "\n",
    "d_=[]\n",
    "for fn in fpaths:\n",
    "    animalid = os.path.splitext(os.path.split(fn)[-1])[0].split(prefix)[-1][1:]\n",
    "    with open(fn, 'rb') as f:\n",
    "        res = pkl.load(f)    \n",
    "    df_ = pd.DataFrame(res['Fit'], index=param_names, columns=[animalid]).T\n",
    "    try:\n",
    "        thr = ps.getThreshold(res, 0.5, 0)[0] # Value at which function reaches at_pc correct\n",
    "        slp = ps.getSlope(res, ps.getThreshold(res, 0.5, 1)[0]) # Slope at given stimulus level\n",
    "    except Exception as e:\n",
    "        thr=None\n",
    "        slp=None\n",
    "    [thr_0,CI0] = ps.getThreshold(res,0.25,1)\n",
    "    [thr_1,CI1] = ps.getThreshold(res,0.75,1)\n",
    "    jnd = thr_1-thr_0\n",
    "    df_['jnd'] = jnd\n",
    "    df_['slope'] = slp\n",
    "    df_['thr_scaled'] = thr\n",
    "    df_['animalid'] = animalid\n",
    "    d_.append(df_)"
   ]
  },
  {
   "cell_type": "code",
   "execution_count": 25,
   "id": "continued-campbell",
   "metadata": {},
   "outputs": [],
   "source": [
    "FITS = pd.concat(d_, axis=0)\n"
   ]
  },
  {
   "cell_type": "code",
   "execution_count": null,
   "id": "funny-italic",
   "metadata": {},
   "outputs": [],
   "source": []
  }
 ],
 "metadata": {
  "kernelspec": {
   "display_name": "Python 3",
   "language": "python",
   "name": "python3"
  },
  "language_info": {
   "codemirror_mode": {
    "name": "ipython",
    "version": 3
   },
   "file_extension": ".py",
   "mimetype": "text/x-python",
   "name": "python",
   "nbconvert_exporter": "python",
   "pygments_lexer": "ipython3",
   "version": "3.7.10"
  }
 },
 "nbformat": 4,
 "nbformat_minor": 5
}
