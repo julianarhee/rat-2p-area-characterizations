{
 "cells": [
  {
   "cell_type": "code",
   "execution_count": 215,
   "id": "reduced-seminar",
   "metadata": {},
   "outputs": [],
   "source": [
    "import os\n",
    "import importlib\n",
    "import numpy as np\n",
    "import pandas as pd\n",
    "import seaborn as sns\n",
    "import pylab as lp"
   ]
  },
  {
   "cell_type": "code",
   "execution_count": 216,
   "id": "thorough-directive",
   "metadata": {},
   "outputs": [],
   "source": [
    "import analyze2p.receptive_fields.utils as rfutils\n",
    "import analyze2p.objects.sim_utils as su\n",
    "\n",
    "import analyze2p.plotting as pplot\n",
    "import analyze2p.aggregate_datasets as aggr\n",
    "import analyze2p.utils as hutils\n"
   ]
  },
  {
   "cell_type": "code",
   "execution_count": 217,
   "id": "atmospheric-heritage",
   "metadata": {},
   "outputs": [],
   "source": [
    "#### Plotting params\n",
    "visual_areas, area_colors = pplot.set_threecolor_palette()\n",
    "pplot.set_plot_params(labelsize=6, lw_axes=0.25)\n",
    "bw_colors = dict((v, [0.7]*3) for v in visual_areas)"
   ]
  },
  {
   "cell_type": "code",
   "execution_count": 222,
   "id": "d35268c2",
   "metadata": {},
   "outputs": [
    {
     "data": {
      "text/plain": [
       "<module 'analyze2p.aggregate_datasets' from '/home/julianarhee/Repositories/rat-2p-area-characterizations/analyze2p/aggregate_datasets.py'>"
      ]
     },
     "execution_count": 222,
     "metadata": {},
     "output_type": "execute_result"
    }
   ],
   "source": [
    "importlib.reload(aggr)"
   ]
  },
  {
   "cell_type": "code",
   "execution_count": 223,
   "id": "congressional-daughter",
   "metadata": {},
   "outputs": [
    {
     "name": "stdout",
     "output_type": "stream",
     "text": [
      "Loading old...\n",
      "Assigning cells\n",
      "list index out of range\n",
      "Error loading analysis: retino_run2 (20190314_JC070_fov1)\n",
      "---(/n/coxfs01/2p-data/JC070/20190314/FOV2_zoom2p0x/retino_run1/paradigm/files/parsed_trials_20190314_JC070_FOV2_retino_f1.json) No analysis found for file: 1\n",
      "---(/n/coxfs01/2p-data/JC070/20190314/FOV2_zoom2p0x/retino_run1/paradigm/files/parsed_trials_20190314_JC070_FOV2_retino_f1.json) No analysis found for file: 2\n",
      "list index out of range\n",
      "Error loading analysis: retino_run1 (20191108_JC113_fov2)\n",
      "Segmentation: missing 14 dsets\n"
     ]
    }
   ],
   "source": [
    "#### Set trace ID and FOV/state type\n",
    "aggregate_dir = '/n/coxfs01/julianarhee/aggregate-visual-areas'\n",
    "rootdir='/n/coxfs01/2p-data'\n",
    "fov_type = 'zoom2p0x'\n",
    "state = 'awake'\n",
    "# ------------------------------------------------------------------\n",
    "# Load all metdata and assigned cells\n",
    "sdata, cells0, missing_ = aggr.get_aggregate_info(visual_areas=visual_areas, \n",
    "                                        return_missing=True,\n",
    "                                        create_new=False, return_cells=True)\n",
    "\n",
    "experiment_list = ['rfs10', 'rfs'] \n",
    "meta = sdata[sdata.experiment.isin(experiment_list)].copy()"
   ]
  },
  {
   "cell_type": "code",
   "execution_count": null,
   "id": "683aca95",
   "metadata": {},
   "outputs": [],
   "source": []
  },
  {
   "cell_type": "code",
   "execution_count": 182,
   "id": "4d3c6e9b",
   "metadata": {},
   "outputs": [],
   "source": [
    "import analyze2p.retinotopy.utils as retutils"
   ]
  },
  {
   "cell_type": "code",
   "execution_count": 225,
   "id": "da565d3a",
   "metadata": {},
   "outputs": [
    {
     "data": {
      "text/plain": [
       "<module 'analyze2p.receptive_fields.utils' from '/home/julianarhee/Repositories/rat-2p-area-characterizations/analyze2p/receptive_fields/utils.py'>"
      ]
     },
     "execution_count": 225,
     "metadata": {},
     "output_type": "execute_result"
    }
   ],
   "source": [
    "importlib.reload(rfutils)"
   ]
  },
  {
   "cell_type": "code",
   "execution_count": 226,
   "id": "valid-linux",
   "metadata": {
    "scrolled": true
   },
   "outputs": [
    {
     "name": "stdout",
     "output_type": "stream",
     "text": [
      "N dpaths: 62, N unfit: 0\n",
      "N datasets included: 62, N sessions excluded: 4\n"
     ]
    }
   ],
   "source": [
    "do_spherical_correction=False\n",
    "response_type='dff'\n",
    "\n",
    "rf_fit_desc = rfutils.get_fit_desc(response_type=response_type, \n",
    "                                 do_spherical_correction=do_spherical_correction)\n",
    "# ALL rfdata, including rf-5 and rf-10\n",
    "rfdata, no_fit, no_eval = rfutils.aggregate_rfdata(meta, cells0, fit_desc=rf_fit_desc,\n",
    "                                 reliable_only=False, return_missing=True)"
   ]
  },
  {
   "cell_type": "code",
   "execution_count": 227,
   "id": "8b93c63d",
   "metadata": {},
   "outputs": [
    {
     "data": {
      "text/plain": [
       "(2441, 27)"
      ]
     },
     "execution_count": 227,
     "metadata": {},
     "output_type": "execute_result"
    }
   ],
   "source": [
    "rfdata.shape"
   ]
  },
  {
   "cell_type": "code",
   "execution_count": 228,
   "id": "chubby-aquarium",
   "metadata": {},
   "outputs": [
    {
     "data": {
      "text/plain": [
       "experiment    2\n",
       "dtype: int64"
      ]
     },
     "execution_count": 228,
     "metadata": {},
     "output_type": "execute_result"
    }
   ],
   "source": [
    "rfdata[['visual_area', 'datakey', 'experiment']].drop_duplicates()\\\n",
    "    .groupby(['visual_area', 'datakey']).count().max()"
   ]
  },
  {
   "cell_type": "code",
   "execution_count": 229,
   "id": "promotional-heaven",
   "metadata": {},
   "outputs": [],
   "source": [
    "# Combine all rfdata to be AVERAGE or rf-5 or rf-10, WHATEVER we have\n",
    "# Most liberal method\n",
    "rfdf = rfutils.average_rfs(rfdata, keep_experiment=False)\n"
   ]
  },
  {
   "cell_type": "code",
   "execution_count": 230,
   "id": "invisible-diana",
   "metadata": {},
   "outputs": [
    {
     "data": {
      "text/plain": [
       "experiment    1\n",
       "dtype: int64"
      ]
     },
     "execution_count": 230,
     "metadata": {},
     "output_type": "execute_result"
    }
   ],
   "source": [
    "rfdf[['visual_area', 'datakey', 'experiment']].drop_duplicates()\\\n",
    "    .groupby(['visual_area', 'datakey']).count().max()"
   ]
  },
  {
   "cell_type": "code",
   "execution_count": 231,
   "id": "wireless-cover",
   "metadata": {},
   "outputs": [
    {
     "data": {
      "text/plain": [
       "79"
      ]
     },
     "execution_count": 231,
     "metadata": {},
     "output_type": "execute_result"
    }
   ],
   "source": [
    "len(rfdf[rfdf.datakey=='20190508_JC083_fov1']['cell'].unique())\n"
   ]
  },
  {
   "cell_type": "code",
   "execution_count": 232,
   "id": "inner-secondary",
   "metadata": {},
   "outputs": [
    {
     "data": {
      "text/plain": [
       "(79, 27)"
      ]
     },
     "execution_count": 232,
     "metadata": {},
     "output_type": "execute_result"
    }
   ],
   "source": [
    "rfdf[rfdf.datakey=='20190508_JC083_fov1'].shape"
   ]
  },
  {
   "cell_type": "code",
   "execution_count": 233,
   "id": "57209cf8",
   "metadata": {},
   "outputs": [
    {
     "data": {
      "text/plain": [
       "[]"
      ]
     },
     "execution_count": 233,
     "metadata": {},
     "output_type": "execute_result"
    }
   ],
   "source": [
    "bad_assignment = []\n",
    "for (dk, ri), g in rfdf.groupby(['datakey', 'cell']):\n",
    "    if g.shape[0]>1:\n",
    "        bad_assignment.append((dk, ri))\n",
    "        \n",
    "bad_assignment       "
   ]
  },
  {
   "cell_type": "code",
   "execution_count": 234,
   "id": "1db7e755",
   "metadata": {},
   "outputs": [
    {
     "data": {
      "text/html": [
       "<div>\n",
       "<style scoped>\n",
       "    .dataframe tbody tr th:only-of-type {\n",
       "        vertical-align: middle;\n",
       "    }\n",
       "\n",
       "    .dataframe tbody tr th {\n",
       "        vertical-align: top;\n",
       "    }\n",
       "\n",
       "    .dataframe thead th {\n",
       "        text-align: right;\n",
       "    }\n",
       "</style>\n",
       "<table border=\"1\" class=\"dataframe\">\n",
       "  <thead>\n",
       "    <tr style=\"text-align: right;\">\n",
       "      <th></th>\n",
       "      <th>datakey</th>\n",
       "      <th>cell</th>\n",
       "      <th>x0</th>\n",
       "      <th>y0</th>\n",
       "      <th>fwhm_x</th>\n",
       "      <th>fwhm_y</th>\n",
       "      <th>theta</th>\n",
       "      <th>offset</th>\n",
       "      <th>amplitude</th>\n",
       "      <th>r2</th>\n",
       "      <th>...</th>\n",
       "      <th>ratio_xy</th>\n",
       "      <th>theta_c</th>\n",
       "      <th>theta_Mm_deg</th>\n",
       "      <th>major_axis</th>\n",
       "      <th>minor_axis</th>\n",
       "      <th>anisotropy</th>\n",
       "      <th>theta_Mm_c</th>\n",
       "      <th>aniso_index</th>\n",
       "      <th>visual_area</th>\n",
       "      <th>experiment</th>\n",
       "    </tr>\n",
       "  </thead>\n",
       "  <tbody>\n",
       "    <tr>\n",
       "      <th>1123</th>\n",
       "      <td>20190508_JC083_fov1</td>\n",
       "      <td>204.0</td>\n",
       "      <td>60.771195</td>\n",
       "      <td>1.988298</td>\n",
       "      <td>50.164217</td>\n",
       "      <td>19.823805</td>\n",
       "      <td>0.180837</td>\n",
       "      <td>0.002832</td>\n",
       "      <td>-0.079042</td>\n",
       "      <td>0.778632</td>\n",
       "      <td>...</td>\n",
       "      <td>2.530504</td>\n",
       "      <td>0.180837</td>\n",
       "      <td>10.361222</td>\n",
       "      <td>21.346475</td>\n",
       "      <td>8.435661</td>\n",
       "      <td>0.433509</td>\n",
       "      <td>0.180837</td>\n",
       "      <td>-0.277573</td>\n",
       "      <td>V1</td>\n",
       "      <td>average_rfs</td>\n",
       "    </tr>\n",
       "  </tbody>\n",
       "</table>\n",
       "<p>1 rows × 27 columns</p>\n",
       "</div>"
      ],
      "text/plain": [
       "                  datakey   cell         x0        y0     fwhm_x     fwhm_y  \\\n",
       "1123  20190508_JC083_fov1  204.0  60.771195  1.988298  50.164217  19.823805   \n",
       "\n",
       "         theta    offset  amplitude        r2  ...  ratio_xy   theta_c  \\\n",
       "1123  0.180837  0.002832  -0.079042  0.778632  ...  2.530504  0.180837   \n",
       "\n",
       "      theta_Mm_deg  major_axis  minor_axis  anisotropy  theta_Mm_c  \\\n",
       "1123     10.361222   21.346475    8.435661    0.433509    0.180837   \n",
       "\n",
       "      aniso_index  visual_area   experiment  \n",
       "1123    -0.277573           V1  average_rfs  \n",
       "\n",
       "[1 rows x 27 columns]"
      ]
     },
     "execution_count": 234,
     "metadata": {},
     "output_type": "execute_result"
    }
   ],
   "source": [
    " rfdf[(rfdf.datakey=='20190508_JC083_fov1') & (rfdf['cell']==204)]"
   ]
  },
  {
   "cell_type": "code",
   "execution_count": 235,
   "id": "99696019",
   "metadata": {},
   "outputs": [
    {
     "data": {
      "text/html": [
       "<div>\n",
       "<style scoped>\n",
       "    .dataframe tbody tr th:only-of-type {\n",
       "        vertical-align: middle;\n",
       "    }\n",
       "\n",
       "    .dataframe tbody tr th {\n",
       "        vertical-align: top;\n",
       "    }\n",
       "\n",
       "    .dataframe thead th {\n",
       "        text-align: right;\n",
       "    }\n",
       "</style>\n",
       "<table border=\"1\" class=\"dataframe\">\n",
       "  <thead>\n",
       "    <tr style=\"text-align: right;\">\n",
       "      <th></th>\n",
       "      <th>x0</th>\n",
       "      <th>y0</th>\n",
       "      <th>fwhm_x</th>\n",
       "      <th>fwhm_y</th>\n",
       "      <th>theta</th>\n",
       "      <th>offset</th>\n",
       "      <th>amplitude</th>\n",
       "      <th>r2</th>\n",
       "      <th>cell</th>\n",
       "      <th>datakey</th>\n",
       "      <th>...</th>\n",
       "      <th>fx</th>\n",
       "      <th>fy</th>\n",
       "      <th>ratio_xy</th>\n",
       "      <th>theta_c</th>\n",
       "      <th>theta_Mm_deg</th>\n",
       "      <th>major_axis</th>\n",
       "      <th>minor_axis</th>\n",
       "      <th>anisotropy</th>\n",
       "      <th>theta_Mm_c</th>\n",
       "      <th>aniso_index</th>\n",
       "    </tr>\n",
       "  </thead>\n",
       "  <tbody>\n",
       "  </tbody>\n",
       "</table>\n",
       "<p>0 rows × 27 columns</p>\n",
       "</div>"
      ],
      "text/plain": [
       "Empty DataFrame\n",
       "Columns: [x0, y0, fwhm_x, fwhm_y, theta, offset, amplitude, r2, cell, datakey, visual_area, experiment, std_x, std_y, fwhm_avg, std_avg, area, fx, fy, ratio_xy, theta_c, theta_Mm_deg, major_axis, minor_axis, anisotropy, theta_Mm_c, aniso_index]\n",
       "Index: []\n",
       "\n",
       "[0 rows x 27 columns]"
      ]
     },
     "execution_count": 235,
     "metadata": {},
     "output_type": "execute_result"
    }
   ],
   "source": [
    "curr_rois = [r[1] for r in bad_assignment]\n",
    "rfdata[(rfdata.datakey=='20190508_JC083_fov1') & (rfdata['cell'].isin(curr_rois))]\n",
    "\n",
    "       "
   ]
  },
  {
   "cell_type": "code",
   "execution_count": 174,
   "id": "250f8021",
   "metadata": {},
   "outputs": [],
   "source": [
    "c1 = cells0[(cells0.datakey=='20190508_JC083_fov1') & (cells0.visual_area=='V1')]['cell']\n",
    "c2 = cells0[(cells0.datakey=='20190508_JC083_fov1') & (cells0.visual_area=='Lm')]['cell']"
   ]
  },
  {
   "cell_type": "code",
   "execution_count": 178,
   "id": "d15dc74d",
   "metadata": {},
   "outputs": [
    {
     "data": {
      "text/plain": [
       "42"
      ]
     },
     "execution_count": 178,
     "metadata": {},
     "output_type": "execute_result"
    }
   ],
   "source": [
    "len(np.intersect1d(c1, c2))\n"
   ]
  },
  {
   "cell_type": "code",
   "execution_count": null,
   "id": "badbd082",
   "metadata": {},
   "outputs": [],
   "source": []
  },
  {
   "cell_type": "code",
   "execution_count": null,
   "id": "686acc1c",
   "metadata": {},
   "outputs": [],
   "source": []
  },
  {
   "cell_type": "code",
   "execution_count": 236,
   "id": "different-induction",
   "metadata": {},
   "outputs": [
    {
     "name": "stdout",
     "output_type": "stream",
     "text": [
      "/n/coxfs01/julianarhee/aggregate-visual-areas/receptive-fields/dataframes\n"
     ]
    }
   ],
   "source": [
    "dst_dir = os.path.join(aggregate_dir, 'receptive-fields', 'dataframes')\n",
    "if not os.path.exists(dst_dir):\n",
    "    os.makedirs(dst_dir)\n",
    "print(dst_dir)\n",
    "\n",
    "poly_fpath = os.path.join(dst_dir, 'average_polys.pkl')\n",
    "if os.path.exists(poly_fpath):\n",
    "    with open(poly_fpath, 'rb') as f:\n",
    "        POLYS = pkl.load(f)\n",
    "else:\n",
    "    POLYS = None"
   ]
  },
  {
   "cell_type": "code",
   "execution_count": 237,
   "id": "cooperative-captain",
   "metadata": {},
   "outputs": [
    {
     "name": "stdout",
     "output_type": "stream",
     "text": [
      "20190420_JC076_fov1, 9\n",
      "20190423_JC076_fov1, 10\n",
      "20190430_JC078_fov1, 38\n",
      "20190501_JC076_fov1, 9\n",
      "20190504_JC078_fov1, 12\n",
      "20190506_JC080_fov1, 40\n",
      "20190507_JC083_fov1, 58\n",
      "20190508_JC083_fov1, 79\n",
      "20190509_JC078_fov1, 10\n",
      "20190510_JC083_fov1, 33\n",
      "20190511_JC083_fov1, 47\n",
      "20190512_JC083_fov1, 59\n",
      "20190513_JC078_fov1, 23\n",
      "20190517_JC083_fov1, 24\n",
      "20190522_JC084_fov1, 134\n",
      "20190522_JC089_fov1, 9\n",
      "20190525_JC084_fov1, 42\n",
      "20190527_JC092_fov3, 46\n",
      "20190528_JC092_fov1, 11\n",
      "20190602_JC080_fov2, 31\n",
      "20190602_JC091_fov1, 90\n",
      "20190603_JC080_fov1, 59\n",
      "20190606_JC091_fov1, 38\n",
      "20190607_JC091_fov1, 70\n",
      "20190609_JC099_fov1, 53\n",
      "20190612_JC099_fov1, 40\n",
      "20190613_JC097_fov1, 118\n",
      "20190614_JC091_fov1, 92\n",
      "20190615_JC097_fov2, 129\n",
      "20190616_JC097_fov1, 152\n",
      "20190617_JC097_fov1, 89\n",
      "20190617_JC099_fov1, 16\n",
      "20190618_JC097_fov1, 35\n",
      "20190622_JC085_fov1, 106\n",
      "20190627_JC091_fov1, 11\n",
      "20191004_JC110_fov2, 85\n",
      "20191006_JC110_fov1, 99\n",
      "20191012_JC113_fov1, 6\n",
      "20191012_JC113_fov2, 23\n",
      "20191017_JC113_fov1, 46\n",
      "20191018_JC113_fov1, 14\n",
      "20191105_JC117_fov1, 14\n",
      "20191106_JC120_fov1, 26\n",
      "20191111_JC117_fov1, 21\n",
      "20191111_JC117_fov2, 2\n",
      "20191111_JC120_fov1, 4\n"
     ]
    }
   ],
   "source": [
    "# Process all cells in fov\n",
    "cols = [c for c in rfdf.columns if c!='visual_area']\n",
    "by_dkey = rfdf[cols].drop_duplicates()\n",
    "# Add new, if needed\n",
    "check_these={}\n",
    "add_list=[]\n",
    "for dk, curr_rfs in by_dkey.groupby('datakey'):\n",
    "    if POLYS is not None:\n",
    "        found_ = POLYS[(POLYS.datakey==dk)]\n",
    "        need_ = curr_rfs[curr_rfs['cell'].isin(found_['cell'].values)]\n",
    "    else:\n",
    "        need_ = curr_rfs.copy()\n",
    "    rf_polys, check_rfs = su.get_rf_polys(need_, check_invalid=True)\n",
    "    if len(check_rfs)>0:\n",
    "        check_these[dk]= check_rfs\n",
    "    rf_polys['datakey'] = dk\n",
    "    add_list.append(rf_polys)\n",
    "    print(\"%s, %i\" % (dk, len(rf_polys)))\n",
    "\n",
    "#     rfs_ = params_deg_to_pixels(curr_rfs)\n",
    "#     rf_screen = rf_to_screen(ri, rfs_, resolution=resolution)\n",
    "#     rpoly = image_to_poly(rf_screen.astype(np.uint8))\n",
    "    "
   ]
  },
  {
   "cell_type": "code",
   "execution_count": 242,
   "id": "f633ad1a",
   "metadata": {},
   "outputs": [
    {
     "name": "stdout",
     "output_type": "stream",
     "text": [
      "(2162, 3)\n"
     ]
    }
   ],
   "source": [
    "add_POLYS = pd.concat(add_list, axis=0)\n",
    "print(add_POLYS.shape)"
   ]
  },
  {
   "cell_type": "code",
   "execution_count": 241,
   "id": "8f52f4a8",
   "metadata": {},
   "outputs": [
    {
     "name": "stdout",
     "output_type": "stream",
     "text": [
      "(2162, 3)\n"
     ]
    }
   ],
   "source": [
    "if POLYS is None:\n",
    "    POLYS = add_POLYS\n",
    "else:\n",
    "    POLYS0 = POLYS.copy()\n",
    "    POLYS = pd.concat([POLYS0, add_POLYS], axis=0)\n",
    "print(POLYS.shape)"
   ]
  },
  {
   "cell_type": "code",
   "execution_count": 244,
   "id": "f24ff619",
   "metadata": {},
   "outputs": [],
   "source": [
    "with open(poly_fpath, 'wb') as f:\n",
    "    pkl.dump(POLYS, f, protocol=2)"
   ]
  },
  {
   "cell_type": "code",
   "execution_count": null,
   "id": "cdff7160",
   "metadata": {},
   "outputs": [],
   "source": []
  },
  {
   "cell_type": "code",
   "execution_count": null,
   "id": "753c569a",
   "metadata": {},
   "outputs": [],
   "source": []
  },
  {
   "cell_type": "code",
   "execution_count": null,
   "id": "e3668bb2",
   "metadata": {},
   "outputs": [],
   "source": []
  },
  {
   "cell_type": "code",
   "execution_count": 29,
   "id": "million-congo",
   "metadata": {
    "scrolled": true
   },
   "outputs": [
    {
     "ename": "ValueError",
     "evalue": "invalid literal for int() with base 10: 'x0_pix'",
     "output_type": "error",
     "traceback": [
      "\u001b[0;31m---------------------------------------------------------------------------\u001b[0m",
      "\u001b[0;31mValueError\u001b[0m                                Traceback (most recent call last)",
      "\u001b[0;32m<ipython-input-29-f88a6716fefa>\u001b[0m in \u001b[0;36m<module>\u001b[0;34m\u001b[0m\n\u001b[1;32m      1\u001b[0m \u001b[0mrfs_\u001b[0m \u001b[0;34m=\u001b[0m \u001b[0msu\u001b[0m\u001b[0;34m.\u001b[0m\u001b[0mparams_deg_to_pixels\u001b[0m\u001b[0;34m(\u001b[0m\u001b[0mcurr_rfs\u001b[0m\u001b[0;34m)\u001b[0m\u001b[0;34m\u001b[0m\u001b[0;34m\u001b[0m\u001b[0m\n\u001b[1;32m      2\u001b[0m \u001b[0;32mfor\u001b[0m \u001b[0mri\u001b[0m\u001b[0;34m,\u001b[0m \u001b[0mr_\u001b[0m \u001b[0;32min\u001b[0m \u001b[0mrfs_\u001b[0m\u001b[0;34m.\u001b[0m\u001b[0mgroupby\u001b[0m\u001b[0;34m(\u001b[0m\u001b[0;34m'cell'\u001b[0m\u001b[0;34m)\u001b[0m\u001b[0;34m:\u001b[0m\u001b[0;34m\u001b[0m\u001b[0;34m\u001b[0m\u001b[0m\n\u001b[0;32m----> 3\u001b[0;31m     \u001b[0mrf_screen\u001b[0m \u001b[0;34m=\u001b[0m \u001b[0msu\u001b[0m\u001b[0;34m.\u001b[0m\u001b[0mrf_to_screen\u001b[0m\u001b[0;34m(\u001b[0m\u001b[0mri\u001b[0m\u001b[0;34m,\u001b[0m \u001b[0mr_\u001b[0m\u001b[0;34m)\u001b[0m\u001b[0;34m\u001b[0m\u001b[0;34m\u001b[0m\u001b[0m\n\u001b[0m\u001b[1;32m      4\u001b[0m     \u001b[0mrpoly\u001b[0m \u001b[0;34m=\u001b[0m \u001b[0msu\u001b[0m\u001b[0;34m.\u001b[0m\u001b[0mimage_to_poly\u001b[0m\u001b[0;34m(\u001b[0m\u001b[0mrf_screen\u001b[0m\u001b[0;34m.\u001b[0m\u001b[0mastype\u001b[0m\u001b[0;34m(\u001b[0m\u001b[0mnp\u001b[0m\u001b[0;34m.\u001b[0m\u001b[0muint8\u001b[0m\u001b[0;34m)\u001b[0m\u001b[0;34m)\u001b[0m\u001b[0;34m\u001b[0m\u001b[0;34m\u001b[0m\u001b[0m\n",
      "\u001b[0;32m/net/coxfs01/srv/export/coxfs01/share_root/2p-pipeline/repos/rat-2p-area-characterizations/analyze2p/objects/sim_utils.py\u001b[0m in \u001b[0;36mrf_to_screen\u001b[0;34m(rid, rfs_, resolution)\u001b[0m\n\u001b[1;32m    382\u001b[0m     \u001b[0;31m# Create mask\u001b[0m\u001b[0;34m\u001b[0m\u001b[0;34m\u001b[0m\u001b[0;34m\u001b[0m\u001b[0m\n\u001b[1;32m    383\u001b[0m     \u001b[0mcurr_rf_mask\u001b[0m \u001b[0;34m=\u001b[0m \u001b[0mnp\u001b[0m\u001b[0;34m.\u001b[0m\u001b[0mzeros\u001b[0m\u001b[0;34m(\u001b[0m\u001b[0mresolution\u001b[0m\u001b[0;34m[\u001b[0m\u001b[0;34m:\u001b[0m\u001b[0;34m:\u001b[0m\u001b[0;34m-\u001b[0m\u001b[0;36m1\u001b[0m\u001b[0;34m]\u001b[0m\u001b[0;34m)\u001b[0m\u001b[0;34m.\u001b[0m\u001b[0mastype\u001b[0m\u001b[0;34m(\u001b[0m\u001b[0mnp\u001b[0m\u001b[0;34m.\u001b[0m\u001b[0muint8\u001b[0m\u001b[0;34m)\u001b[0m\u001b[0;34m\u001b[0m\u001b[0;34m\u001b[0m\u001b[0m\n\u001b[0;32m--> 384\u001b[0;31m     curr_rf_mask=cv2.ellipse(curr_rf_mask, (int(x0), int(y0)), \n\u001b[0m\u001b[1;32m    385\u001b[0m                      \u001b[0;34m(\u001b[0m\u001b[0mint\u001b[0m\u001b[0;34m(\u001b[0m\u001b[0mfwhm_x\u001b[0m\u001b[0;34m/\u001b[0m\u001b[0;36m2\u001b[0m\u001b[0;34m)\u001b[0m\u001b[0;34m,\u001b[0m \u001b[0mint\u001b[0m\u001b[0;34m(\u001b[0m\u001b[0mfwhm_y\u001b[0m\u001b[0;34m/\u001b[0m\u001b[0;36m2\u001b[0m\u001b[0;34m)\u001b[0m\u001b[0;34m)\u001b[0m\u001b[0;34m,\u001b[0m\u001b[0;34m\u001b[0m\u001b[0;34m\u001b[0m\u001b[0m\n\u001b[1;32m    386\u001b[0m                      \u001b[0mnp\u001b[0m\u001b[0;34m.\u001b[0m\u001b[0mrad2deg\u001b[0m\u001b[0;34m(\u001b[0m\u001b[0mtheta\u001b[0m\u001b[0;34m)\u001b[0m\u001b[0;34m,\u001b[0m\u001b[0;34m\u001b[0m\u001b[0;34m\u001b[0m\u001b[0m\n",
      "\u001b[0;31mValueError\u001b[0m: invalid literal for int() with base 10: 'x0_pix'"
     ]
    }
   ],
   "source": [
    "rfs_ = su.params_deg_to_pixels(curr_rfs)\n",
    "for ri, r_ in rfs_.groupby('cell'):\n",
    "    rf_screen = su.rf_to_screen(ri, r_)\n",
    "    rpoly = su.image_to_poly(rf_screen.astype(np.uint8))"
   ]
  },
  {
   "cell_type": "code",
   "execution_count": 38,
   "id": "growing-johnston",
   "metadata": {},
   "outputs": [
    {
     "data": {
      "text/html": [
       "<div>\n",
       "<style scoped>\n",
       "    .dataframe tbody tr th:only-of-type {\n",
       "        vertical-align: middle;\n",
       "    }\n",
       "\n",
       "    .dataframe tbody tr th {\n",
       "        vertical-align: top;\n",
       "    }\n",
       "\n",
       "    .dataframe thead th {\n",
       "        text-align: right;\n",
       "    }\n",
       "</style>\n",
       "<table border=\"1\" class=\"dataframe\">\n",
       "  <thead>\n",
       "    <tr style=\"text-align: right;\">\n",
       "      <th></th>\n",
       "      <th>poly</th>\n",
       "      <th>cell</th>\n",
       "    </tr>\n",
       "  </thead>\n",
       "  <tbody>\n",
       "    <tr>\n",
       "      <th>0</th>\n",
       "      <td>POLYGON ((1165 748, 1164 749, 1163 749, 1162 7...</td>\n",
       "      <td>177.0</td>\n",
       "    </tr>\n",
       "    <tr>\n",
       "      <th>1</th>\n",
       "      <td>POLYGON ((981 702, 980 703, 969 703, 968 704, ...</td>\n",
       "      <td>180.0</td>\n",
       "    </tr>\n",
       "    <tr>\n",
       "      <th>2</th>\n",
       "      <td>POLYGON ((859 547, 858 548, 846 548, 845 549, ...</td>\n",
       "      <td>191.0</td>\n",
       "    </tr>\n",
       "    <tr>\n",
       "      <th>3</th>\n",
       "      <td>POLYGON ((1086 635, 1085 636, 1081 636, 1080 6...</td>\n",
       "      <td>206.0</td>\n",
       "    </tr>\n",
       "    <tr>\n",
       "      <th>4</th>\n",
       "      <td>POLYGON ((841 588, 840 589, 835 589, 834 590, ...</td>\n",
       "      <td>209.0</td>\n",
       "    </tr>\n",
       "    <tr>\n",
       "      <th>5</th>\n",
       "      <td>POLYGON ((1058 529, 1057 530, 1051 530, 1050 5...</td>\n",
       "      <td>271.0</td>\n",
       "    </tr>\n",
       "    <tr>\n",
       "      <th>6</th>\n",
       "      <td>POLYGON ((916 471, 915 472, 906 472, 905 473, ...</td>\n",
       "      <td>272.0</td>\n",
       "    </tr>\n",
       "    <tr>\n",
       "      <th>7</th>\n",
       "      <td>POLYGON ((1168 616, 1167 617, 1164 617, 1163 6...</td>\n",
       "      <td>289.0</td>\n",
       "    </tr>\n",
       "    <tr>\n",
       "      <th>8</th>\n",
       "      <td>POLYGON ((1711 568, 1710 569, 1709 569, 1708 5...</td>\n",
       "      <td>309.0</td>\n",
       "    </tr>\n",
       "    <tr>\n",
       "      <th>9</th>\n",
       "      <td>POLYGON ((1556 459, 1555 460, 1550 460, 1549 4...</td>\n",
       "      <td>317.0</td>\n",
       "    </tr>\n",
       "  </tbody>\n",
       "</table>\n",
       "</div>"
      ],
      "text/plain": [
       "                                                poly   cell\n",
       "0  POLYGON ((1165 748, 1164 749, 1163 749, 1162 7...  177.0\n",
       "1  POLYGON ((981 702, 980 703, 969 703, 968 704, ...  180.0\n",
       "2  POLYGON ((859 547, 858 548, 846 548, 845 549, ...  191.0\n",
       "3  POLYGON ((1086 635, 1085 636, 1081 636, 1080 6...  206.0\n",
       "4  POLYGON ((841 588, 840 589, 835 589, 834 590, ...  209.0\n",
       "5  POLYGON ((1058 529, 1057 530, 1051 530, 1050 5...  271.0\n",
       "6  POLYGON ((916 471, 915 472, 906 472, 905 473, ...  272.0\n",
       "7  POLYGON ((1168 616, 1167 617, 1164 617, 1163 6...  289.0\n",
       "8  POLYGON ((1711 568, 1710 569, 1709 569, 1708 5...  309.0\n",
       "9  POLYGON ((1556 459, 1555 460, 1550 460, 1549 4...  317.0"
      ]
     },
     "execution_count": 38,
     "metadata": {},
     "output_type": "execute_result"
    }
   ],
   "source": [
    "rf_polys"
   ]
  },
  {
   "cell_type": "code",
   "execution_count": 32,
   "id": "fantastic-tuition",
   "metadata": {},
   "outputs": [
    {
     "data": {
      "text/html": [
       "<div>\n",
       "<style scoped>\n",
       "    .dataframe tbody tr th:only-of-type {\n",
       "        vertical-align: middle;\n",
       "    }\n",
       "\n",
       "    .dataframe tbody tr th {\n",
       "        vertical-align: top;\n",
       "    }\n",
       "\n",
       "    .dataframe thead th {\n",
       "        text-align: right;\n",
       "    }\n",
       "</style>\n",
       "<table border=\"1\" class=\"dataframe\">\n",
       "  <thead>\n",
       "    <tr style=\"text-align: right;\">\n",
       "      <th></th>\n",
       "      <th>datakey</th>\n",
       "      <th>animalid</th>\n",
       "      <th>session</th>\n",
       "      <th>cell</th>\n",
       "      <th>x0</th>\n",
       "      <th>y0</th>\n",
       "      <th>fwhm_x</th>\n",
       "      <th>fwhm_y</th>\n",
       "      <th>theta</th>\n",
       "      <th>offset</th>\n",
       "      <th>...</th>\n",
       "      <th>minor_axis</th>\n",
       "      <th>anisotropy</th>\n",
       "      <th>theta_Mm_c</th>\n",
       "      <th>aniso_index</th>\n",
       "      <th>visual_area</th>\n",
       "      <th>experiment</th>\n",
       "      <th>x0_pix</th>\n",
       "      <th>y0_pix</th>\n",
       "      <th>fwhm_x_pix</th>\n",
       "      <th>fwhm_y_pix</th>\n",
       "    </tr>\n",
       "  </thead>\n",
       "  <tbody>\n",
       "    <tr>\n",
       "      <th>197.0</th>\n",
       "      <td>20190508_JC083_fov1</td>\n",
       "      <td>JC083</td>\n",
       "      <td>20190508</td>\n",
       "      <td>197.0</td>\n",
       "      <td>53.957145</td>\n",
       "      <td>2.548797</td>\n",
       "      <td>27.746813</td>\n",
       "      <td>13.209007</td>\n",
       "      <td>0.060078</td>\n",
       "      <td>-0.005116</td>\n",
       "      <td>...</td>\n",
       "      <td>5.620854</td>\n",
       "      <td>0.354963</td>\n",
       "      <td>0.060078</td>\n",
       "      <td>-0.312338</td>\n",
       "      <td>Lm</td>\n",
       "      <td>average_rfs</td>\n",
       "      <td>1827</td>\n",
       "      <td>581</td>\n",
       "      <td>445.336347</td>\n",
       "      <td>212.004559</td>\n",
       "    </tr>\n",
       "    <tr>\n",
       "      <th>197.0</th>\n",
       "      <td>20190508_JC083_fov1</td>\n",
       "      <td>JC083</td>\n",
       "      <td>20190508</td>\n",
       "      <td>197.0</td>\n",
       "      <td>53.957145</td>\n",
       "      <td>2.548797</td>\n",
       "      <td>27.746813</td>\n",
       "      <td>13.209007</td>\n",
       "      <td>0.060078</td>\n",
       "      <td>-0.005116</td>\n",
       "      <td>...</td>\n",
       "      <td>5.620854</td>\n",
       "      <td>0.354963</td>\n",
       "      <td>0.060078</td>\n",
       "      <td>-0.312338</td>\n",
       "      <td>V1</td>\n",
       "      <td>average_rfs</td>\n",
       "      <td>1827</td>\n",
       "      <td>581</td>\n",
       "      <td>445.336347</td>\n",
       "      <td>212.004559</td>\n",
       "    </tr>\n",
       "  </tbody>\n",
       "</table>\n",
       "<p>2 rows × 34 columns</p>\n",
       "</div>"
      ],
      "text/plain": [
       "                   datakey animalid   session   cell         x0        y0  \\\n",
       "197.0  20190508_JC083_fov1    JC083  20190508  197.0  53.957145  2.548797   \n",
       "197.0  20190508_JC083_fov1    JC083  20190508  197.0  53.957145  2.548797   \n",
       "\n",
       "          fwhm_x     fwhm_y     theta    offset  ...  minor_axis  anisotropy  \\\n",
       "197.0  27.746813  13.209007  0.060078 -0.005116  ...    5.620854    0.354963   \n",
       "197.0  27.746813  13.209007  0.060078 -0.005116  ...    5.620854    0.354963   \n",
       "\n",
       "       theta_Mm_c  aniso_index  visual_area   experiment  x0_pix  y0_pix  \\\n",
       "197.0    0.060078    -0.312338           Lm  average_rfs    1827     581   \n",
       "197.0    0.060078    -0.312338           V1  average_rfs    1827     581   \n",
       "\n",
       "       fwhm_x_pix  fwhm_y_pix  \n",
       "197.0  445.336347  212.004559  \n",
       "197.0  445.336347  212.004559  \n",
       "\n",
       "[2 rows x 34 columns]"
      ]
     },
     "execution_count": 32,
     "metadata": {},
     "output_type": "execute_result"
    }
   ],
   "source": [
    "r_"
   ]
  },
  {
   "cell_type": "code",
   "execution_count": null,
   "id": "widespread-house",
   "metadata": {},
   "outputs": [],
   "source": []
  },
  {
   "cell_type": "code",
   "execution_count": null,
   "id": "registered-blowing",
   "metadata": {},
   "outputs": [],
   "source": []
  },
  {
   "cell_type": "code",
   "execution_count": 92,
   "id": "proof-metabolism",
   "metadata": {},
   "outputs": [],
   "source": [
    "stim_polys = su.get_stimulus_polys(dk, experiment) "
   ]
  },
  {
   "cell_type": "code",
   "execution_count": 93,
   "id": "through-victim",
   "metadata": {
    "scrolled": true
   },
   "outputs": [],
   "source": [
    "o_=[]\n",
    "for ri, rf_poly in rf_polys[['cell', 'poly']].values:\n",
    "    res = su.cell_overlap_with_stimuli(ri, rf_poly, stim_polys)\n",
    "    o_.append(res)\n",
    "           "
   ]
  },
  {
   "cell_type": "code",
   "execution_count": 32,
   "id": "collect-stable",
   "metadata": {},
   "outputs": [],
   "source": [
    "for si, spoly in enumerate(stim_polys['poly'].values):\n",
    "    si"
   ]
  },
  {
   "cell_type": "code",
   "execution_count": 38,
   "id": "compatible-horror",
   "metadata": {},
   "outputs": [
    {
     "ename": "TypeError",
     "evalue": "'method' object is not subscriptable",
     "output_type": "error",
     "traceback": [
      "\u001b[0;31m---------------------------------------------------------------------------\u001b[0m",
      "\u001b[0;31mTypeError\u001b[0m                                 Traceback (most recent call last)",
      "\u001b[0;32m<ipython-input-38-e9683d58204a>\u001b[0m in \u001b[0;36m<module>\u001b[0;34m\u001b[0m\n\u001b[0;32m----> 1\u001b[0;31m \u001b[0mrfutils\u001b[0m\u001b[0;34m.\u001b[0m\u001b[0mcalculate_overlap\u001b[0m\u001b[0;34m(\u001b[0m\u001b[0mrf_poly\u001b[0m\u001b[0;34m,\u001b[0m \u001b[0mspoly\u001b[0m\u001b[0;34m.\u001b[0m\u001b[0mbuffer\u001b[0m\u001b[0;34m[\u001b[0m\u001b[0;36m0\u001b[0m\u001b[0;34m]\u001b[0m\u001b[0;34m)\u001b[0m\u001b[0;34m\u001b[0m\u001b[0;34m\u001b[0m\u001b[0m\n\u001b[0m",
      "\u001b[0;31mTypeError\u001b[0m: 'method' object is not subscriptable"
     ]
    }
   ],
   "source": [
    "rfutils.calculate_overlap(rf_poly, spoly.buffer[0])"
   ]
  },
  {
   "cell_type": "code",
   "execution_count": 44,
   "id": "industrial-orlando",
   "metadata": {},
   "outputs": [
    {
     "ename": "TypeError",
     "evalue": "unsupported operand type(s) for +: 'Polygon' and 'Polygon'",
     "output_type": "error",
     "traceback": [
      "\u001b[0;31m---------------------------------------------------------------------------\u001b[0m",
      "\u001b[0;31mTypeError\u001b[0m                                 Traceback (most recent call last)",
      "\u001b[0;32m<ipython-input-44-e5dc2a3ac8a5>\u001b[0m in \u001b[0;36m<module>\u001b[0;34m\u001b[0m\n\u001b[0;32m----> 1\u001b[0;31m \u001b[0mrf_poly\u001b[0m \u001b[0;34m+\u001b[0m \u001b[0mspoly\u001b[0m\u001b[0;34m\u001b[0m\u001b[0;34m\u001b[0m\u001b[0m\n\u001b[0m",
      "\u001b[0;31mTypeError\u001b[0m: unsupported operand type(s) for +: 'Polygon' and 'Polygon'"
     ]
    }
   ],
   "source": [
    "rf_poly + spoly"
   ]
  },
  {
   "cell_type": "code",
   "execution_count": 45,
   "id": "verbal-tracker",
   "metadata": {},
   "outputs": [
    {
     "name": "stderr",
     "output_type": "stream",
     "text": [
      "TopologyException: Input geom 0 is invalid: Self-intersection at or near point 1917 543 at 1917 543\n"
     ]
    },
    {
     "ename": "TopologicalError",
     "evalue": "The operation 'GEOSIntersection_r' could not be performed. Likely cause is invalidity of the geometry <shapely.geometry.polygon.Polygon object at 0x2b6bf9a23ed0>",
     "output_type": "error",
     "traceback": [
      "\u001b[0;31m---------------------------------------------------------------------------\u001b[0m",
      "\u001b[0;31mTopologicalError\u001b[0m                          Traceback (most recent call last)",
      "\u001b[0;32m<ipython-input-45-e8b8d6558f02>\u001b[0m in \u001b[0;36m<module>\u001b[0;34m\u001b[0m\n\u001b[0;32m----> 1\u001b[0;31m \u001b[0mrf_poly\u001b[0m\u001b[0;34m.\u001b[0m\u001b[0mintersection\u001b[0m\u001b[0;34m(\u001b[0m\u001b[0mspoly\u001b[0m\u001b[0;34m)\u001b[0m\u001b[0;34m\u001b[0m\u001b[0;34m\u001b[0m\u001b[0m\n\u001b[0m",
      "\u001b[0;32m/n/coxfs01/2p-pipeline/envs/rat2p/lib/python3.7/site-packages/shapely/geometry/base.py\u001b[0m in \u001b[0;36mintersection\u001b[0;34m(self, other)\u001b[0m\n\u001b[1;32m    674\u001b[0m     \u001b[0;32mdef\u001b[0m \u001b[0mintersection\u001b[0m\u001b[0;34m(\u001b[0m\u001b[0mself\u001b[0m\u001b[0;34m,\u001b[0m \u001b[0mother\u001b[0m\u001b[0;34m)\u001b[0m\u001b[0;34m:\u001b[0m\u001b[0;34m\u001b[0m\u001b[0;34m\u001b[0m\u001b[0m\n\u001b[1;32m    675\u001b[0m         \u001b[0;34m\"\"\"Returns the intersection of the geometries\"\"\"\u001b[0m\u001b[0;34m\u001b[0m\u001b[0;34m\u001b[0m\u001b[0m\n\u001b[0;32m--> 676\u001b[0;31m         \u001b[0;32mreturn\u001b[0m \u001b[0mgeom_factory\u001b[0m\u001b[0;34m(\u001b[0m\u001b[0mself\u001b[0m\u001b[0;34m.\u001b[0m\u001b[0mimpl\u001b[0m\u001b[0;34m[\u001b[0m\u001b[0;34m'intersection'\u001b[0m\u001b[0;34m]\u001b[0m\u001b[0;34m(\u001b[0m\u001b[0mself\u001b[0m\u001b[0;34m,\u001b[0m \u001b[0mother\u001b[0m\u001b[0;34m)\u001b[0m\u001b[0;34m)\u001b[0m\u001b[0;34m\u001b[0m\u001b[0;34m\u001b[0m\u001b[0m\n\u001b[0m\u001b[1;32m    677\u001b[0m \u001b[0;34m\u001b[0m\u001b[0m\n\u001b[1;32m    678\u001b[0m     \u001b[0;32mdef\u001b[0m \u001b[0msymmetric_difference\u001b[0m\u001b[0;34m(\u001b[0m\u001b[0mself\u001b[0m\u001b[0;34m,\u001b[0m \u001b[0mother\u001b[0m\u001b[0;34m)\u001b[0m\u001b[0;34m:\u001b[0m\u001b[0;34m\u001b[0m\u001b[0;34m\u001b[0m\u001b[0m\n",
      "\u001b[0;32m/n/coxfs01/2p-pipeline/envs/rat2p/lib/python3.7/site-packages/shapely/topology.py\u001b[0m in \u001b[0;36m__call__\u001b[0;34m(self, this, other, *args)\u001b[0m\n\u001b[1;32m     68\u001b[0m             err = TopologicalError(\n\u001b[1;32m     69\u001b[0m                     \"This operation could not be performed. Reason: unknown\")\n\u001b[0;32m---> 70\u001b[0;31m             \u001b[0mself\u001b[0m\u001b[0;34m.\u001b[0m\u001b[0m_check_topology\u001b[0m\u001b[0;34m(\u001b[0m\u001b[0merr\u001b[0m\u001b[0;34m,\u001b[0m \u001b[0mthis\u001b[0m\u001b[0;34m,\u001b[0m \u001b[0mother\u001b[0m\u001b[0;34m)\u001b[0m\u001b[0;34m\u001b[0m\u001b[0;34m\u001b[0m\u001b[0m\n\u001b[0m\u001b[1;32m     71\u001b[0m         \u001b[0;32mreturn\u001b[0m \u001b[0mproduct\u001b[0m\u001b[0;34m\u001b[0m\u001b[0;34m\u001b[0m\u001b[0m\n\u001b[1;32m     72\u001b[0m \u001b[0;34m\u001b[0m\u001b[0m\n",
      "\u001b[0;32m/n/coxfs01/2p-pipeline/envs/rat2p/lib/python3.7/site-packages/shapely/topology.py\u001b[0m in \u001b[0;36m_check_topology\u001b[0;34m(self, err, *geoms)\u001b[0m\n\u001b[1;32m     36\u001b[0m                     \u001b[0;34m\"The operation '%s' could not be performed. \"\u001b[0m\u001b[0;34m\u001b[0m\u001b[0;34m\u001b[0m\u001b[0m\n\u001b[1;32m     37\u001b[0m                     \"Likely cause is invalidity of the geometry %s\" % (\n\u001b[0;32m---> 38\u001b[0;31m                         self.fn.__name__, repr(geom)))\n\u001b[0m\u001b[1;32m     39\u001b[0m         \u001b[0;32mraise\u001b[0m \u001b[0merr\u001b[0m\u001b[0;34m\u001b[0m\u001b[0;34m\u001b[0m\u001b[0m\n\u001b[1;32m     40\u001b[0m \u001b[0;34m\u001b[0m\u001b[0m\n",
      "\u001b[0;31mTopologicalError\u001b[0m: The operation 'GEOSIntersection_r' could not be performed. Likely cause is invalidity of the geometry <shapely.geometry.polygon.Polygon object at 0x2b6bf9a23ed0>"
     ]
    }
   ],
   "source": [
    " rf_poly.intersection(spoly)"
   ]
  },
  {
   "cell_type": "code",
   "execution_count": 52,
   "id": "complimentary-underwear",
   "metadata": {},
   "outputs": [
    {
     "ename": "ImportError",
     "evalue": "cannot import name 'make_valid' from 'shapely.validation' (/n/coxfs01/2p-pipeline/envs/rat2p/lib/python3.7/site-packages/shapely/validation.py)",
     "output_type": "error",
     "traceback": [
      "\u001b[0;31m---------------------------------------------------------------------------\u001b[0m",
      "\u001b[0;31mImportError\u001b[0m                               Traceback (most recent call last)",
      "\u001b[0;32m<ipython-input-52-ee1fa0870df2>\u001b[0m in \u001b[0;36m<module>\u001b[0;34m\u001b[0m\n\u001b[0;32m----> 1\u001b[0;31m \u001b[0;32mfrom\u001b[0m \u001b[0mshapely\u001b[0m\u001b[0;34m.\u001b[0m\u001b[0mvalidation\u001b[0m \u001b[0;32mimport\u001b[0m \u001b[0mmake_valid\u001b[0m\u001b[0;34m\u001b[0m\u001b[0;34m\u001b[0m\u001b[0m\n\u001b[0m",
      "\u001b[0;31mImportError\u001b[0m: cannot import name 'make_valid' from 'shapely.validation' (/n/coxfs01/2p-pipeline/envs/rat2p/lib/python3.7/site-packages/shapely/validation.py)"
     ]
    }
   ],
   "source": [
    "from shapely.validation import make_valid"
   ]
  },
  {
   "cell_type": "code",
   "execution_count": 51,
   "id": "stylish-recovery",
   "metadata": {},
   "outputs": [
    {
     "ename": "AttributeError",
     "evalue": "module 'shapely.validation' has no attribute 'make_valid'",
     "output_type": "error",
     "traceback": [
      "\u001b[0;31m---------------------------------------------------------------------------\u001b[0m",
      "\u001b[0;31mAttributeError\u001b[0m                            Traceback (most recent call last)",
      "\u001b[0;32m<ipython-input-51-7237fabed0d7>\u001b[0m in \u001b[0;36m<module>\u001b[0;34m\u001b[0m\n\u001b[0;32m----> 1\u001b[0;31m \u001b[0mvalidation\u001b[0m\u001b[0;34m.\u001b[0m\u001b[0mmake_valid\u001b[0m\u001b[0;34m\u001b[0m\u001b[0;34m\u001b[0m\u001b[0m\n\u001b[0m",
      "\u001b[0;31mAttributeError\u001b[0m: module 'shapely.validation' has no attribute 'make_valid'"
     ]
    }
   ],
   "source": [
    "validation.make_valid\n"
   ]
  },
  {
   "cell_type": "code",
   "execution_count": null,
   "id": "sensitive-classic",
   "metadata": {},
   "outputs": [],
   "source": []
  },
  {
   "cell_type": "code",
   "execution_count": null,
   "id": "further-corner",
   "metadata": {},
   "outputs": [],
   "source": [
    "rf_lim = 'percentile'\n",
    "# cells_lim = dec.get_cells_with_matched_rfs(cells0, sdata, rf_lim='percentile')\n",
    "rfdf = dec.get_rfdf(cells0, sdata, do_spherical_correction=False)\n",
    "cells_RF = dec.get_cells_with_rfs(cells0, rfdf)\n",
    "cells_lim, sz_limits = dec.limit_cells_by_rf(cells_RF, rf_lim=rf_lim)\n",
    "\n",
    "sz_lower, sz_upper = sz_limits.loc['lower'].max(), lims.loc['upper'].min()\n",
    "sz_limits"
   ]
  },
  {
   "cell_type": "code",
   "execution_count": null,
   "id": "binding-compromise",
   "metadata": {},
   "outputs": [],
   "source": [
    "print(cells_RF[['visual_area', 'datakey', 'cell']].drop_duplicates()\\\n",
    "      ['visual_area'].value_counts().to_markdown())"
   ]
  },
  {
   "cell_type": "code",
   "execution_count": null,
   "id": "warming-tumor",
   "metadata": {},
   "outputs": [],
   "source": [
    "%matplotlib notebook\n",
    "fig, ax = pl.subplots(figsize=(5,4))\n",
    "sns.stripplot(x='visual_area', y='std_avg', hue='visual_area', \n",
    "             data=cells_RF, ax=ax, order=visual_areas, \n",
    "             palette=area_colors, s=2, zorder=0)\n",
    "sns.pointplot(x='visual_area', y='std_avg',\n",
    "             data=cells_RF, ax=ax, order=visual_areas, join=False, ci='sd',\n",
    "             estimator=np.median, color='k', markers='_', scale=1, zorder=1000,\n",
    "             errwidth=1)\n",
    "\n",
    "# sz_upper_lim=16.6\n",
    "# sz_lower_lim=6.9\n",
    "ax.axhline(y=sz_lower, color='k', ls=':', lw=0.5)\n",
    "ax.axhline(y=sz_upper, color='k', ls=':', lw=0.5)\n",
    "ax.legend_.remove()\n",
    "\n",
    "fig.text(0.01, 0.95, 'Distribution of avg RF size, with median (%s)' % rf_lim)\n",
    "\n",
    "pl.savefig(os.path.join(dst_dir, 'RF_sizes_%s.svg' % rf_lim))\n"
   ]
  },
  {
   "cell_type": "code",
   "execution_count": null,
   "id": "typical-protein",
   "metadata": {},
   "outputs": [],
   "source": [
    "# Compare overlaps"
   ]
  },
  {
   "cell_type": "code",
   "execution_count": null,
   "id": "fifteen-shaft",
   "metadata": {},
   "outputs": [],
   "source": [
    "m1 = 'M%i' % 0\n",
    "m2 = 'M%i' % 106\n",
    "#images, impaths = su.load_stimuli(root='/n/home00/juliana.rhee', return_paths=True)\n",
    "#print(\"im shape:\", images['M0'].shape)\n",
    "images = su.load_stimuli()\n",
    "f, axn = pl.subplots(1,2, figsize=(5,2))\n",
    "axn[0].imshow(images[m1]); axn[0].set_title(m1);\n",
    "axn[1].imshow(images[m2]); axn[1].set_title(m2);\n"
   ]
  },
  {
   "cell_type": "code",
   "execution_count": null,
   "id": "loved-allen",
   "metadata": {},
   "outputs": [],
   "source": [
    "## Example fov\n",
    "dk = '20190602_JC091_fov1'\n",
    "va='Li'\n",
    "experiment='blobs'"
   ]
  },
  {
   "cell_type": "code",
   "execution_count": null,
   "id": "second-palestinian",
   "metadata": {},
   "outputs": [],
   "source": []
  },
  {
   "cell_type": "code",
   "execution_count": null,
   "id": "pediatric-retro",
   "metadata": {},
   "outputs": [],
   "source": []
  },
  {
   "cell_type": "code",
   "execution_count": null,
   "id": "musical-conducting",
   "metadata": {},
   "outputs": [],
   "source": [
    "rid=15\n",
    "rf_screen = su.rf_to_screen(rid, curr_rfs, resolution=[1920, 1080])\n",
    "%matplotlib notebook\n",
    "pl.figure()\n",
    "pl.imshow(rf_screen)"
   ]
  },
  {
   "cell_type": "code",
   "execution_count": null,
   "id": "thrown-pottery",
   "metadata": {},
   "outputs": [],
   "source": [
    "stim_polys, stim_screen = su.get_stimulus_polys"
   ]
  },
  {
   "cell_type": "code",
   "execution_count": null,
   "id": "several-metallic",
   "metadata": {},
   "outputs": [],
   "source": []
  },
  {
   "cell_type": "code",
   "execution_count": null,
   "id": "light-dodge",
   "metadata": {},
   "outputs": [],
   "source": [
    "rf = su.image_to_poly(rf_screen)\n",
    "blob = su.image_to_poly(stim_screen.astype(np.uint8))\n",
    "odf = rfutils.calculate_overlap(rf, blob, r1='rf', r2='blob')"
   ]
  }
 ],
 "metadata": {
  "kernelspec": {
   "display_name": "Python 3",
   "language": "python",
   "name": "python3"
  },
  "language_info": {
   "codemirror_mode": {
    "name": "ipython",
    "version": 3
   },
   "file_extension": ".py",
   "mimetype": "text/x-python",
   "name": "python",
   "nbconvert_exporter": "python",
   "pygments_lexer": "ipython3",
   "version": "3.7.10"
  }
 },
 "nbformat": 4,
 "nbformat_minor": 5
}
