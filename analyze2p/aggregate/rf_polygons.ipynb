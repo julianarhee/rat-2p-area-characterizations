{
 "cells": [
  {
   "cell_type": "code",
   "execution_count": 215,
   "id": "reduced-seminar",
   "metadata": {},
   "outputs": [],
   "source": [
    "import os\n",
    "import importlib\n",
    "import numpy as np\n",
    "import pandas as pd\n",
    "import seaborn as sns\n",
    "import pylab as lp"
   ]
  },
  {
   "cell_type": "code",
   "execution_count": 216,
   "id": "thorough-directive",
   "metadata": {},
   "outputs": [],
   "source": [
    "import analyze2p.receptive_fields.utils as rfutils\n",
    "import analyze2p.objects.sim_utils as su\n",
    "\n",
    "import analyze2p.plotting as pplot\n",
    "import analyze2p.aggregate_datasets as aggr\n",
    "import analyze2p.utils as hutils\n"
   ]
  },
  {
   "cell_type": "code",
   "execution_count": 217,
   "id": "atmospheric-heritage",
   "metadata": {},
   "outputs": [],
   "source": [
    "#### Plotting params\n",
    "visual_areas, area_colors = pplot.set_threecolor_palette()\n",
    "pplot.set_plot_params(labelsize=6, lw_axes=0.25)\n",
    "bw_colors = dict((v, [0.7]*3) for v in visual_areas)"
   ]
  },
  {
   "cell_type": "code",
   "execution_count": 218,
   "id": "aec79c2d",
   "metadata": {},
   "outputs": [
    {
     "data": {
      "text/plain": [
       "<module 'analyze2p.aggregate_datasets' from '/home/julianarhee/Repositories/rat-2p-area-characterizations/analyze2p/aggregate_datasets.py'>"
      ]
     },
     "execution_count": 218,
     "metadata": {},
     "output_type": "execute_result"
    }
   ],
   "source": [
    "importlib.reload(aggr)"
   ]
  },
  {
   "cell_type": "code",
   "execution_count": 219,
   "id": "congressional-daughter",
   "metadata": {},
   "outputs": [
    {
     "name": "stdout",
     "output_type": "stream",
     "text": [
      "Loading old...\n"
     ]
    },
    {
     "ename": "OSError",
     "evalue": "[Errno 112] Host is down: '/n/coxfs01/julianarhee/aggregate-visual-areas/dataset_info.pkl'",
     "output_type": "error",
     "traceback": [
      "\u001b[0;31m-----------------------------------------------------------------\u001b[0m",
      "\u001b[0;31mOSError\u001b[0m                         Traceback (most recent call last)",
      "\u001b[0;32m<ipython-input-219-ad2d0d5c47fa>\u001b[0m in \u001b[0;36m<module>\u001b[0;34m\u001b[0m\n\u001b[1;32m      8\u001b[0m sdata, cells0, missing_ = aggr.get_aggregate_info(visual_areas=visual_areas, \n\u001b[1;32m      9\u001b[0m                                         \u001b[0mreturn_missing\u001b[0m\u001b[0;34m=\u001b[0m\u001b[0;32mTrue\u001b[0m\u001b[0;34m,\u001b[0m\u001b[0;34m\u001b[0m\u001b[0;34m\u001b[0m\u001b[0m\n\u001b[0;32m---> 10\u001b[0;31m                                         create_new=True, return_cells=True)\n\u001b[0m\u001b[1;32m     11\u001b[0m \u001b[0;34m\u001b[0m\u001b[0m\n\u001b[1;32m     12\u001b[0m \u001b[0mexperiment_list\u001b[0m \u001b[0;34m=\u001b[0m \u001b[0;34m[\u001b[0m\u001b[0;34m'rfs10'\u001b[0m\u001b[0;34m,\u001b[0m \u001b[0;34m'rfs'\u001b[0m\u001b[0;34m]\u001b[0m\u001b[0;34m\u001b[0m\u001b[0;34m\u001b[0m\u001b[0m\n",
      "\u001b[0;32m~/Repositories/rat-2p-area-characterizations/analyze2p/aggregate_datasets.py\u001b[0m in \u001b[0;36mget_aggregate_info\u001b[0;34m(traceid, fov_type, state, visual_areas, return_cells, create_new, return_missing, aggregate_dir)\u001b[0m\n\u001b[1;32m   1021\u001b[0m         \u001b[0mprint\u001b[0m\u001b[0;34m(\u001b[0m\u001b[0;34m\"Loading old...\"\u001b[0m\u001b[0;34m)\u001b[0m\u001b[0;34m\u001b[0m\u001b[0;34m\u001b[0m\u001b[0m\n\u001b[1;32m   1022\u001b[0m         \u001b[0munassigned_fp\u001b[0m \u001b[0;34m=\u001b[0m \u001b[0mos\u001b[0m\u001b[0;34m.\u001b[0m\u001b[0mpath\u001b[0m\u001b[0;34m.\u001b[0m\u001b[0mjoin\u001b[0m\u001b[0;34m(\u001b[0m\u001b[0maggregate_dir\u001b[0m\u001b[0;34m,\u001b[0m \u001b[0;34m'dataset_info.pkl'\u001b[0m\u001b[0;34m)\u001b[0m\u001b[0;34m\u001b[0m\u001b[0;34m\u001b[0m\u001b[0m\n\u001b[0;32m-> 1023\u001b[0;31m         \u001b[0;32mwith\u001b[0m \u001b[0mopen\u001b[0m\u001b[0;34m(\u001b[0m\u001b[0munassigned_fp\u001b[0m\u001b[0;34m,\u001b[0m \u001b[0;34m'rb'\u001b[0m\u001b[0;34m)\u001b[0m \u001b[0;32mas\u001b[0m \u001b[0mf\u001b[0m\u001b[0;34m:\u001b[0m\u001b[0;34m\u001b[0m\u001b[0;34m\u001b[0m\u001b[0m\n\u001b[0m\u001b[1;32m   1024\u001b[0m             \u001b[0msdata\u001b[0m \u001b[0;34m=\u001b[0m \u001b[0mpkl\u001b[0m\u001b[0;34m.\u001b[0m\u001b[0mload\u001b[0m\u001b[0;34m(\u001b[0m\u001b[0mf\u001b[0m\u001b[0;34m,\u001b[0m \u001b[0mencoding\u001b[0m\u001b[0;34m=\u001b[0m\u001b[0;34m'latin1'\u001b[0m\u001b[0;34m)\u001b[0m\u001b[0;34m\u001b[0m\u001b[0;34m\u001b[0m\u001b[0m\n\u001b[1;32m   1025\u001b[0m         cells, missing_seg = get_cells_by_area(sdata, create_new=create_new,\n",
      "\u001b[0;31mOSError\u001b[0m: [Errno 112] Host is down: '/n/coxfs01/julianarhee/aggregate-visual-areas/dataset_info.pkl'"
     ]
    }
   ],
   "source": [
    "#### Set trace ID and FOV/state type\n",
    "aggregate_dir = '/n/coxfs01/julianarhee/aggregate-visual-areas'\n",
    "rootdir='/n/coxfs01/2p-data'\n",
    "fov_type = 'zoom2p0x'\n",
    "state = 'awake'\n",
    "# ------------------------------------------------------------------\n",
    "# Load all metdata and assigned cells\n",
    "sdata, cells0, missing_ = aggr.get_aggregate_info(visual_areas=visual_areas, \n",
    "                                        return_missing=True,\n",
    "                                        create_new=True, return_cells=True)\n",
    "\n",
    "experiment_list = ['rfs10', 'rfs'] \n",
    "meta = sdata[sdata.experiment.isin(experiment_list)].copy()"
   ]
  },
  {
   "cell_type": "code",
   "execution_count": 182,
   "id": "3e3f593b",
   "metadata": {},
   "outputs": [],
   "source": [
    "import analyze2p.retinotopy.utils as retutils"
   ]
  },
  {
   "cell_type": "code",
   "execution_count": 198,
   "id": "092744f7",
   "metadata": {},
   "outputs": [
    {
     "name": "stdout",
     "output_type": "stream",
     "text": [
      "retino_run1\n"
     ]
    }
   ],
   "source": [
    "dk = '20190508_JC083_fov1'\n",
    "all_retinos = retutils.get_average_mag_across_pixels(dk)\n",
    "retinorun = all_retinos.iloc[all_retinos[1].idxmax()][0]\n",
    "print(retinorun)\n"
   ]
  },
  {
   "cell_type": "markdown",
   "id": "e91d39e5",
   "metadata": {},
   "source": [
    "#### aggr.get_cells_by_area()"
   ]
  },
  {
   "cell_type": "code",
   "execution_count": 185,
   "id": "915f047b",
   "metadata": {},
   "outputs": [
    {
     "ename": "AttributeError",
     "evalue": "'Series' object has no attribute 'idmax'",
     "output_type": "error",
     "traceback": [
      "\u001b[0;31m-----------------------------------------------------------------\u001b[0m",
      "\u001b[0;31mAttributeError\u001b[0m                  Traceback (most recent call last)",
      "\u001b[0;32m<ipython-input-185-5000d481f5a2>\u001b[0m in \u001b[0;36m<module>\u001b[0;34m\u001b[0m\n\u001b[0;32m----> 1\u001b[0;31m \u001b[0mall_retinos\u001b[0m\u001b[0;34m.\u001b[0m\u001b[0mloc\u001b[0m\u001b[0;34m[\u001b[0m\u001b[0;36m1\u001b[0m\u001b[0;34m]\u001b[0m\u001b[0;34m.\u001b[0m\u001b[0midmax\u001b[0m\u001b[0;34m(\u001b[0m\u001b[0;34m)\u001b[0m\u001b[0;34m[\u001b[0m\u001b[0;36m0\u001b[0m\u001b[0;34m]\u001b[0m\u001b[0;34m\u001b[0m\u001b[0;34m\u001b[0m\u001b[0m\n\u001b[0m",
      "\u001b[0;32m~/anaconda2/envs/rat2p/lib/python3.7/site-packages/pandas/core/generic.py\u001b[0m in \u001b[0;36m__getattr__\u001b[0;34m(self, name)\u001b[0m\n\u001b[1;32m   5463\u001b[0m             \u001b[0;32mif\u001b[0m \u001b[0mself\u001b[0m\u001b[0;34m.\u001b[0m\u001b[0m_info_axis\u001b[0m\u001b[0;34m.\u001b[0m\u001b[0m_can_hold_identifiers_and_holds_name\u001b[0m\u001b[0;34m(\u001b[0m\u001b[0mname\u001b[0m\u001b[0;34m)\u001b[0m\u001b[0;34m:\u001b[0m\u001b[0;34m\u001b[0m\u001b[0;34m\u001b[0m\u001b[0m\n\u001b[1;32m   5464\u001b[0m                 \u001b[0;32mreturn\u001b[0m \u001b[0mself\u001b[0m\u001b[0;34m[\u001b[0m\u001b[0mname\u001b[0m\u001b[0;34m]\u001b[0m\u001b[0;34m\u001b[0m\u001b[0;34m\u001b[0m\u001b[0m\n\u001b[0;32m-> 5465\u001b[0;31m             \u001b[0;32mreturn\u001b[0m \u001b[0mobject\u001b[0m\u001b[0;34m.\u001b[0m\u001b[0m__getattribute__\u001b[0m\u001b[0;34m(\u001b[0m\u001b[0mself\u001b[0m\u001b[0;34m,\u001b[0m \u001b[0mname\u001b[0m\u001b[0;34m)\u001b[0m\u001b[0;34m\u001b[0m\u001b[0;34m\u001b[0m\u001b[0m\n\u001b[0m\u001b[1;32m   5466\u001b[0m \u001b[0;34m\u001b[0m\u001b[0m\n\u001b[1;32m   5467\u001b[0m     \u001b[0;32mdef\u001b[0m \u001b[0m__setattr__\u001b[0m\u001b[0;34m(\u001b[0m\u001b[0mself\u001b[0m\u001b[0;34m,\u001b[0m \u001b[0mname\u001b[0m\u001b[0;34m:\u001b[0m \u001b[0mstr\u001b[0m\u001b[0;34m,\u001b[0m \u001b[0mvalue\u001b[0m\u001b[0;34m)\u001b[0m \u001b[0;34m->\u001b[0m \u001b[0;32mNone\u001b[0m\u001b[0;34m:\u001b[0m\u001b[0;34m\u001b[0m\u001b[0;34m\u001b[0m\u001b[0m\n",
      "\u001b[0;31mAttributeError\u001b[0m: 'Series' object has no attribute 'idmax'"
     ]
    }
   ],
   "source": [
    "excluded_datasets = ['20190602_JC080_fov1', '20190605_JC090_fov1',\n",
    "                     '20191003_JC111_fov1', \n",
    "                     '20191104_JC117_fov1', '20191104_JC117_fov2', \n",
    "                     #'20191105_JC117_fov1',\n",
    "                     '20191108_JC113_fov1', '20191004_JC110_fov3',\n",
    "                     '20191008_JC091_fov'] \n",
    "missing_segmentation=[]\n",
    "d_ = []\n",
    "for (animalid, session, fov, datakey), g in sdata.groupby(['animalid', 'session', 'fov', 'datakey']):\n",
    "    if datakey in excluded_datasets:\n",
    "        continue\n",
    "    roi_assignments=dict()\n",
    "    try:\n",
    "        # Get best retino\n",
    "        all_retinos = retutils.get_average_mag_across_pixels(datakey)     \n",
    "        retinorun = all_retinos.iloc[all_retinos[1].idxmax()][0]\n",
    "        #retinorun = all_retinos.loc[all_retinos[1].idxmax()][0] \n",
    "        rois_ = roiutils.load_roi_assignments(animalid, session, \\\n",
    "                                            fov, retinorun=retinorun)\n",
    "        for varea, rlist in rois_.items():\n",
    "            if varea not in roi_assignments.keys():\n",
    "                roi_assignments[varea] = []\n",
    "            roi_assignments[varea].extend(rlist)\n",
    "    except Exception as e:\n",
    "        if verbose:\n",
    "            print(\"... skipping %s (%s)\" % (datakey, retinorun))\n",
    "        missing_segmentation.append((datakey, retinorun))\n",
    "        continue \n",
    "    for varea, rlist in roi_assignments.items():\n",
    "        if hutils.isnumber(varea):\n",
    "            continue  \n",
    "        tmpd = pd.DataFrame({'cell': list(set(rlist))})\n",
    "        session, animalid, fovn = hutils.split_datakey_str(datakey)\n",
    "        metainfo = {'visual_area': varea, \n",
    "                    'animalid': animalid, 'session': session,\n",
    "                    'fov': fov, 'fovnum': int(fovn[3:]), \n",
    "                    'datakey': datakey}\n",
    "        tmpd = hutils.add_meta_to_df(tmpd, metainfo)\n",
    "        d_.append(tmpd)\n",
    "\n",
    "cells = pd.concat(d_, axis=0).reset_index(drop=True)\n",
    "cells = cells[~cells['datakey'].isin(excluded_datasets)]\n",
    "\n"
   ]
  },
  {
   "cell_type": "code",
   "execution_count": 197,
   "id": "b9e1f3a7",
   "metadata": {},
   "outputs": [
    {
     "data": {
      "text/plain": [
       "'retino_run1'"
      ]
     },
     "execution_count": 197,
     "metadata": {},
     "output_type": "execute_result"
    }
   ],
   "source": [
    "all_retinos.iloc[all_retinos[1].idxmax()][0]\n",
    "\n"
   ]
  },
  {
   "cell_type": "code",
   "execution_count": 186,
   "id": "41341838",
   "metadata": {},
   "outputs": [
    {
     "ename": "AttributeError",
     "evalue": "'DataFrame' object has no attribute 'idmax'",
     "output_type": "error",
     "traceback": [
      "\u001b[0;31m-----------------------------------------------------------------\u001b[0m",
      "\u001b[0;31mAttributeError\u001b[0m                  Traceback (most recent call last)",
      "\u001b[0;32m<ipython-input-186-309243256776>\u001b[0m in \u001b[0;36m<module>\u001b[0;34m\u001b[0m\n\u001b[0;32m----> 1\u001b[0;31m \u001b[0mall_retinos\u001b[0m\u001b[0;34m.\u001b[0m\u001b[0midmax\u001b[0m\u001b[0;34m(\u001b[0m\u001b[0;34m)\u001b[0m\u001b[0;34m\u001b[0m\u001b[0;34m\u001b[0m\u001b[0m\n\u001b[0m",
      "\u001b[0;32m~/anaconda2/envs/rat2p/lib/python3.7/site-packages/pandas/core/generic.py\u001b[0m in \u001b[0;36m__getattr__\u001b[0;34m(self, name)\u001b[0m\n\u001b[1;32m   5463\u001b[0m             \u001b[0;32mif\u001b[0m \u001b[0mself\u001b[0m\u001b[0;34m.\u001b[0m\u001b[0m_info_axis\u001b[0m\u001b[0;34m.\u001b[0m\u001b[0m_can_hold_identifiers_and_holds_name\u001b[0m\u001b[0;34m(\u001b[0m\u001b[0mname\u001b[0m\u001b[0;34m)\u001b[0m\u001b[0;34m:\u001b[0m\u001b[0;34m\u001b[0m\u001b[0;34m\u001b[0m\u001b[0m\n\u001b[1;32m   5464\u001b[0m                 \u001b[0;32mreturn\u001b[0m \u001b[0mself\u001b[0m\u001b[0;34m[\u001b[0m\u001b[0mname\u001b[0m\u001b[0;34m]\u001b[0m\u001b[0;34m\u001b[0m\u001b[0;34m\u001b[0m\u001b[0m\n\u001b[0;32m-> 5465\u001b[0;31m             \u001b[0;32mreturn\u001b[0m \u001b[0mobject\u001b[0m\u001b[0;34m.\u001b[0m\u001b[0m__getattribute__\u001b[0m\u001b[0;34m(\u001b[0m\u001b[0mself\u001b[0m\u001b[0;34m,\u001b[0m \u001b[0mname\u001b[0m\u001b[0;34m)\u001b[0m\u001b[0;34m\u001b[0m\u001b[0;34m\u001b[0m\u001b[0m\n\u001b[0m\u001b[1;32m   5466\u001b[0m \u001b[0;34m\u001b[0m\u001b[0m\n\u001b[1;32m   5467\u001b[0m     \u001b[0;32mdef\u001b[0m \u001b[0m__setattr__\u001b[0m\u001b[0;34m(\u001b[0m\u001b[0mself\u001b[0m\u001b[0;34m,\u001b[0m \u001b[0mname\u001b[0m\u001b[0;34m:\u001b[0m \u001b[0mstr\u001b[0m\u001b[0;34m,\u001b[0m \u001b[0mvalue\u001b[0m\u001b[0;34m)\u001b[0m \u001b[0;34m->\u001b[0m \u001b[0;32mNone\u001b[0m\u001b[0;34m:\u001b[0m\u001b[0;34m\u001b[0m\u001b[0;34m\u001b[0m\u001b[0m\n",
      "\u001b[0;31mAttributeError\u001b[0m: 'DataFrame' object has no attribute 'idmax'"
     ]
    }
   ],
   "source": [
    "all_retinos.idmax()"
   ]
  },
  {
   "cell_type": "code",
   "execution_count": 121,
   "id": "e5ccd704",
   "metadata": {},
   "outputs": [
    {
     "data": {
      "text/plain": [
       "<module 'analyze2p.receptive_fields.utils' from '/home/julianarhee/Repositories/rat-2p-area-characterizations/analyze2p/receptive_fields/utils.py'>"
      ]
     },
     "execution_count": 121,
     "metadata": {},
     "output_type": "execute_result"
    }
   ],
   "source": [
    "importlib.reload(rfutils)"
   ]
  },
  {
   "cell_type": "code",
   "execution_count": 161,
   "id": "valid-linux",
   "metadata": {
    "scrolled": true
   },
   "outputs": [
    {
     "name": "stdout",
     "output_type": "stream",
     "text": [
      "N dpaths: 62, N unfit: 0\n",
      "N datasets included: 62, N sessions excluded: 4\n"
     ]
    }
   ],
   "source": [
    "do_spherical_correction=False\n",
    "response_type='dff'\n",
    "\n",
    "rf_fit_desc = rfutils.get_fit_desc(response_type=response_type, \n",
    "                                 do_spherical_correction=do_spherical_correction)\n",
    "# ALL rfdata, including rf-5 and rf-10\n",
    "rfdata, no_fit, no_eval = rfutils.aggregate_rfdata(meta, cells0, fit_desc=rf_fit_desc,\n",
    "                                 reliable_only=False, return_missing=True)"
   ]
  },
  {
   "cell_type": "code",
   "execution_count": 162,
   "id": "3707bb8f",
   "metadata": {},
   "outputs": [
    {
     "data": {
      "text/plain": [
       "(2454, 27)"
      ]
     },
     "execution_count": 162,
     "metadata": {},
     "output_type": "execute_result"
    }
   ],
   "source": [
    "rfdata.shape"
   ]
  },
  {
   "cell_type": "code",
   "execution_count": 163,
   "id": "chubby-aquarium",
   "metadata": {},
   "outputs": [
    {
     "data": {
      "text/plain": [
       "experiment    2\n",
       "dtype: int64"
      ]
     },
     "execution_count": 163,
     "metadata": {},
     "output_type": "execute_result"
    }
   ],
   "source": [
    "rfdata[['visual_area', 'datakey', 'experiment']].drop_duplicates()\\\n",
    "    .groupby(['visual_area', 'datakey']).count().max()"
   ]
  },
  {
   "cell_type": "code",
   "execution_count": 164,
   "id": "promotional-heaven",
   "metadata": {},
   "outputs": [],
   "source": [
    "# Combine all rfdata to be AVERAGE or rf-5 or rf-10, WHATEVER we have\n",
    "# Most liberal method\n",
    "rfdf = rfutils.average_rfs(rfdata, keep_experiment=False)\n"
   ]
  },
  {
   "cell_type": "code",
   "execution_count": 165,
   "id": "invisible-diana",
   "metadata": {},
   "outputs": [
    {
     "data": {
      "text/plain": [
       "experiment    1\n",
       "dtype: int64"
      ]
     },
     "execution_count": 165,
     "metadata": {},
     "output_type": "execute_result"
    }
   ],
   "source": [
    "rfdf[['visual_area', 'datakey', 'experiment']].drop_duplicates()\\\n",
    "    .groupby(['visual_area', 'datakey']).count().max()"
   ]
  },
  {
   "cell_type": "code",
   "execution_count": 166,
   "id": "wireless-cover",
   "metadata": {},
   "outputs": [
    {
     "data": {
      "text/plain": [
       "80"
      ]
     },
     "execution_count": 166,
     "metadata": {},
     "output_type": "execute_result"
    }
   ],
   "source": [
    "len(rfdf[rfdf.datakey=='20190508_JC083_fov1']['cell'].unique())\n"
   ]
  },
  {
   "cell_type": "code",
   "execution_count": 158,
   "id": "inner-secondary",
   "metadata": {},
   "outputs": [
    {
     "data": {
      "text/plain": [
       "(92, 27)"
      ]
     },
     "execution_count": 158,
     "metadata": {},
     "output_type": "execute_result"
    }
   ],
   "source": [
    "rfdf[rfdf.datakey=='20190508_JC083_fov1'].shape"
   ]
  },
  {
   "cell_type": "code",
   "execution_count": 168,
   "id": "502f6310",
   "metadata": {},
   "outputs": [
    {
     "data": {
      "text/plain": [
       "[('20190508_JC083_fov1', 197.0),\n",
       " ('20190508_JC083_fov1', 204.0),\n",
       " ('20190508_JC083_fov1', 209.0),\n",
       " ('20190508_JC083_fov1', 210.0),\n",
       " ('20190508_JC083_fov1', 211.0),\n",
       " ('20190508_JC083_fov1', 215.0),\n",
       " ('20190508_JC083_fov1', 220.0),\n",
       " ('20190508_JC083_fov1', 221.0),\n",
       " ('20190508_JC083_fov1', 224.0),\n",
       " ('20190508_JC083_fov1', 226.0),\n",
       " ('20190508_JC083_fov1', 227.0),\n",
       " ('20190508_JC083_fov1', 232.0)]"
      ]
     },
     "execution_count": 168,
     "metadata": {},
     "output_type": "execute_result"
    }
   ],
   "source": [
    "bad_assignment = []\n",
    "for (dk, ri), g in rfdf.groupby(['datakey', 'cell']):\n",
    "    if g.shape[0]>1:\n",
    "        bad_assignment.append((dk, ri))\n",
    "        \n",
    "bad_assignment       "
   ]
  },
  {
   "cell_type": "code",
   "execution_count": 160,
   "id": "38bca6a3",
   "metadata": {},
   "outputs": [
    {
     "data": {
      "text/html": [
       "<div>\n",
       "<style scoped>\n",
       "    .dataframe tbody tr th:only-of-type {\n",
       "        vertical-align: middle;\n",
       "    }\n",
       "\n",
       "    .dataframe tbody tr th {\n",
       "        vertical-align: top;\n",
       "    }\n",
       "\n",
       "    .dataframe thead th {\n",
       "        text-align: right;\n",
       "    }\n",
       "</style>\n",
       "<table border=\"1\" class=\"dataframe\">\n",
       "  <thead>\n",
       "    <tr style=\"text-align: right;\">\n",
       "      <th></th>\n",
       "      <th>datakey</th>\n",
       "      <th>cell</th>\n",
       "      <th>x0</th>\n",
       "      <th>y0</th>\n",
       "      <th>fwhm_x</th>\n",
       "      <th>fwhm_y</th>\n",
       "      <th>theta</th>\n",
       "      <th>offset</th>\n",
       "      <th>amplitude</th>\n",
       "      <th>r2</th>\n",
       "      <th>...</th>\n",
       "      <th>ratio_xy</th>\n",
       "      <th>theta_c</th>\n",
       "      <th>theta_Mm_deg</th>\n",
       "      <th>major_axis</th>\n",
       "      <th>minor_axis</th>\n",
       "      <th>anisotropy</th>\n",
       "      <th>theta_Mm_c</th>\n",
       "      <th>aniso_index</th>\n",
       "      <th>visual_area</th>\n",
       "      <th>experiment</th>\n",
       "    </tr>\n",
       "  </thead>\n",
       "  <tbody>\n",
       "    <tr>\n",
       "      <th>756</th>\n",
       "      <td>20190508_JC083_fov1</td>\n",
       "      <td>204.0</td>\n",
       "      <td>60.771195</td>\n",
       "      <td>1.988298</td>\n",
       "      <td>50.164217</td>\n",
       "      <td>19.823805</td>\n",
       "      <td>0.180837</td>\n",
       "      <td>0.002832</td>\n",
       "      <td>-0.079042</td>\n",
       "      <td>0.778632</td>\n",
       "      <td>...</td>\n",
       "      <td>2.530504</td>\n",
       "      <td>0.180837</td>\n",
       "      <td>10.361222</td>\n",
       "      <td>21.346475</td>\n",
       "      <td>8.435661</td>\n",
       "      <td>0.433509</td>\n",
       "      <td>0.180837</td>\n",
       "      <td>-0.277573</td>\n",
       "      <td>Lm</td>\n",
       "      <td>average_rfs</td>\n",
       "    </tr>\n",
       "    <tr>\n",
       "      <th>1136</th>\n",
       "      <td>20190508_JC083_fov1</td>\n",
       "      <td>204.0</td>\n",
       "      <td>60.771195</td>\n",
       "      <td>1.988298</td>\n",
       "      <td>50.164217</td>\n",
       "      <td>19.823805</td>\n",
       "      <td>0.180837</td>\n",
       "      <td>0.002832</td>\n",
       "      <td>-0.079042</td>\n",
       "      <td>0.778632</td>\n",
       "      <td>...</td>\n",
       "      <td>2.530504</td>\n",
       "      <td>0.180837</td>\n",
       "      <td>10.361222</td>\n",
       "      <td>21.346475</td>\n",
       "      <td>8.435661</td>\n",
       "      <td>0.433509</td>\n",
       "      <td>0.180837</td>\n",
       "      <td>-0.277573</td>\n",
       "      <td>V1</td>\n",
       "      <td>average_rfs</td>\n",
       "    </tr>\n",
       "  </tbody>\n",
       "</table>\n",
       "<p>2 rows × 27 columns</p>\n",
       "</div>"
      ],
      "text/plain": [
       "                  datakey   cell         x0        y0     fwhm_x     fwhm_y  \\\n",
       "756   20190508_JC083_fov1  204.0  60.771195  1.988298  50.164217  19.823805   \n",
       "1136  20190508_JC083_fov1  204.0  60.771195  1.988298  50.164217  19.823805   \n",
       "\n",
       "         theta    offset  amplitude        r2  ...  ratio_xy   theta_c  \\\n",
       "756   0.180837  0.002832  -0.079042  0.778632  ...  2.530504  0.180837   \n",
       "1136  0.180837  0.002832  -0.079042  0.778632  ...  2.530504  0.180837   \n",
       "\n",
       "      theta_Mm_deg  major_axis  minor_axis  anisotropy  theta_Mm_c  \\\n",
       "756      10.361222   21.346475    8.435661    0.433509    0.180837   \n",
       "1136     10.361222   21.346475    8.435661    0.433509    0.180837   \n",
       "\n",
       "      aniso_index  visual_area   experiment  \n",
       "756     -0.277573           Lm  average_rfs  \n",
       "1136    -0.277573           V1  average_rfs  \n",
       "\n",
       "[2 rows x 27 columns]"
      ]
     },
     "execution_count": 160,
     "metadata": {},
     "output_type": "execute_result"
    }
   ],
   "source": [
    " rfdf[(rfdf.datakey=='20190508_JC083_fov1') & (rfdf['cell']==204)]"
   ]
  },
  {
   "cell_type": "code",
   "execution_count": 169,
   "id": "0deb1cbc",
   "metadata": {},
   "outputs": [
    {
     "data": {
      "text/html": [
       "<div>\n",
       "<style scoped>\n",
       "    .dataframe tbody tr th:only-of-type {\n",
       "        vertical-align: middle;\n",
       "    }\n",
       "\n",
       "    .dataframe tbody tr th {\n",
       "        vertical-align: top;\n",
       "    }\n",
       "\n",
       "    .dataframe thead th {\n",
       "        text-align: right;\n",
       "    }\n",
       "</style>\n",
       "<table border=\"1\" class=\"dataframe\">\n",
       "  <thead>\n",
       "    <tr style=\"text-align: right;\">\n",
       "      <th></th>\n",
       "      <th>x0</th>\n",
       "      <th>y0</th>\n",
       "      <th>fwhm_x</th>\n",
       "      <th>fwhm_y</th>\n",
       "      <th>theta</th>\n",
       "      <th>offset</th>\n",
       "      <th>amplitude</th>\n",
       "      <th>r2</th>\n",
       "      <th>cell</th>\n",
       "      <th>datakey</th>\n",
       "      <th>...</th>\n",
       "      <th>fx</th>\n",
       "      <th>fy</th>\n",
       "      <th>ratio_xy</th>\n",
       "      <th>theta_c</th>\n",
       "      <th>theta_Mm_deg</th>\n",
       "      <th>major_axis</th>\n",
       "      <th>minor_axis</th>\n",
       "      <th>anisotropy</th>\n",
       "      <th>theta_Mm_c</th>\n",
       "      <th>aniso_index</th>\n",
       "    </tr>\n",
       "  </thead>\n",
       "  <tbody>\n",
       "    <tr>\n",
       "      <th>804</th>\n",
       "      <td>53.957145</td>\n",
       "      <td>2.548797</td>\n",
       "      <td>27.746813</td>\n",
       "      <td>13.209007</td>\n",
       "      <td>0.060078</td>\n",
       "      <td>-0.005116</td>\n",
       "      <td>0.312276</td>\n",
       "      <td>0.898802</td>\n",
       "      <td>197.0</td>\n",
       "      <td>20190508_JC083_fov1</td>\n",
       "      <td>...</td>\n",
       "      <td>11.785853</td>\n",
       "      <td>0.708918</td>\n",
       "      <td>2.100598</td>\n",
       "      <td>0.060078</td>\n",
       "      <td>3.442190</td>\n",
       "      <td>11.807154</td>\n",
       "      <td>5.620854</td>\n",
       "      <td>0.354963</td>\n",
       "      <td>0.060078</td>\n",
       "      <td>-0.312338</td>\n",
       "    </tr>\n",
       "    <tr>\n",
       "      <th>805</th>\n",
       "      <td>60.771195</td>\n",
       "      <td>1.988298</td>\n",
       "      <td>50.164217</td>\n",
       "      <td>19.823805</td>\n",
       "      <td>0.180837</td>\n",
       "      <td>0.002832</td>\n",
       "      <td>-0.079042</td>\n",
       "      <td>0.778632</td>\n",
       "      <td>204.0</td>\n",
       "      <td>20190508_JC083_fov1</td>\n",
       "      <td>...</td>\n",
       "      <td>20.998387</td>\n",
       "      <td>3.839237</td>\n",
       "      <td>2.530504</td>\n",
       "      <td>0.180837</td>\n",
       "      <td>10.361222</td>\n",
       "      <td>21.346475</td>\n",
       "      <td>8.435661</td>\n",
       "      <td>0.433509</td>\n",
       "      <td>0.180837</td>\n",
       "      <td>-0.277573</td>\n",
       "    </tr>\n",
       "    <tr>\n",
       "      <th>806</th>\n",
       "      <td>27.697528</td>\n",
       "      <td>-5.058667</td>\n",
       "      <td>28.890404</td>\n",
       "      <td>17.639930</td>\n",
       "      <td>5.366161</td>\n",
       "      <td>-0.005104</td>\n",
       "      <td>0.177550</td>\n",
       "      <td>0.703980</td>\n",
       "      <td>209.0</td>\n",
       "      <td>20190508_JC083_fov1</td>\n",
       "      <td>...</td>\n",
       "      <td>7.476900</td>\n",
       "      <td>9.758751</td>\n",
       "      <td>1.637784</td>\n",
       "      <td>-0.917024</td>\n",
       "      <td>307.458392</td>\n",
       "      <td>12.293789</td>\n",
       "      <td>7.506353</td>\n",
       "      <td>0.241788</td>\n",
       "      <td>-0.917024</td>\n",
       "      <td>0.142072</td>\n",
       "    </tr>\n",
       "    <tr>\n",
       "      <th>807</th>\n",
       "      <td>48.238708</td>\n",
       "      <td>1.042879</td>\n",
       "      <td>17.429473</td>\n",
       "      <td>37.888430</td>\n",
       "      <td>4.995223</td>\n",
       "      <td>-0.009401</td>\n",
       "      <td>0.197339</td>\n",
       "      <td>0.865207</td>\n",
       "      <td>210.0</td>\n",
       "      <td>20190508_JC083_fov1</td>\n",
       "      <td>...</td>\n",
       "      <td>4.499508</td>\n",
       "      <td>15.482153</td>\n",
       "      <td>0.460021</td>\n",
       "      <td>-1.287962</td>\n",
       "      <td>16.205210</td>\n",
       "      <td>16.122736</td>\n",
       "      <td>7.416797</td>\n",
       "      <td>0.369843</td>\n",
       "      <td>0.282834</td>\n",
       "      <td>-0.163413</td>\n",
       "    </tr>\n",
       "    <tr>\n",
       "      <th>808</th>\n",
       "      <td>63.632065</td>\n",
       "      <td>2.016490</td>\n",
       "      <td>52.431512</td>\n",
       "      <td>18.421903</td>\n",
       "      <td>0.239581</td>\n",
       "      <td>-0.005698</td>\n",
       "      <td>0.216859</td>\n",
       "      <td>0.909220</td>\n",
       "      <td>211.0</td>\n",
       "      <td>20190508_JC083_fov1</td>\n",
       "      <td>...</td>\n",
       "      <td>21.674016</td>\n",
       "      <td>5.294367</td>\n",
       "      <td>2.846151</td>\n",
       "      <td>0.239581</td>\n",
       "      <td>13.726974</td>\n",
       "      <td>22.311282</td>\n",
       "      <td>7.839108</td>\n",
       "      <td>0.480000</td>\n",
       "      <td>0.239581</td>\n",
       "      <td>-0.252196</td>\n",
       "    </tr>\n",
       "    <tr>\n",
       "      <th>809</th>\n",
       "      <td>60.533325</td>\n",
       "      <td>10.287261</td>\n",
       "      <td>22.124937</td>\n",
       "      <td>55.446373</td>\n",
       "      <td>5.260519</td>\n",
       "      <td>-0.001223</td>\n",
       "      <td>0.074922</td>\n",
       "      <td>0.523204</td>\n",
       "      <td>215.0</td>\n",
       "      <td>20190508_JC083_fov1</td>\n",
       "      <td>...</td>\n",
       "      <td>12.294753</td>\n",
       "      <td>20.137661</td>\n",
       "      <td>0.399033</td>\n",
       "      <td>-1.022666</td>\n",
       "      <td>31.405540</td>\n",
       "      <td>23.594201</td>\n",
       "      <td>9.414867</td>\n",
       "      <td>0.429559</td>\n",
       "      <td>0.548130</td>\n",
       "      <td>0.018121</td>\n",
       "    </tr>\n",
       "    <tr>\n",
       "      <th>810</th>\n",
       "      <td>55.281476</td>\n",
       "      <td>-4.843543</td>\n",
       "      <td>30.948800</td>\n",
       "      <td>16.409598</td>\n",
       "      <td>6.252317</td>\n",
       "      <td>-0.001748</td>\n",
       "      <td>0.057979</td>\n",
       "      <td>0.692741</td>\n",
       "      <td>220.0</td>\n",
       "      <td>20190508_JC083_fov1</td>\n",
       "      <td>...</td>\n",
       "      <td>13.163428</td>\n",
       "      <td>0.406457</td>\n",
       "      <td>1.886018</td>\n",
       "      <td>-0.030868</td>\n",
       "      <td>358.231397</td>\n",
       "      <td>13.169702</td>\n",
       "      <td>6.982808</td>\n",
       "      <td>0.307004</td>\n",
       "      <td>-0.030868</td>\n",
       "      <td>-0.288054</td>\n",
       "    </tr>\n",
       "    <tr>\n",
       "      <th>811</th>\n",
       "      <td>47.628801</td>\n",
       "      <td>-3.631355</td>\n",
       "      <td>36.595432</td>\n",
       "      <td>19.639671</td>\n",
       "      <td>6.096561</td>\n",
       "      <td>-0.002028</td>\n",
       "      <td>0.029643</td>\n",
       "      <td>0.673346</td>\n",
       "      <td>221.0</td>\n",
       "      <td>20190508_JC083_fov1</td>\n",
       "      <td>...</td>\n",
       "      <td>15.302126</td>\n",
       "      <td>2.889369</td>\n",
       "      <td>1.863342</td>\n",
       "      <td>-0.186624</td>\n",
       "      <td>349.307224</td>\n",
       "      <td>15.572524</td>\n",
       "      <td>8.357307</td>\n",
       "      <td>0.301516</td>\n",
       "      <td>-0.186624</td>\n",
       "      <td>-0.189628</td>\n",
       "    </tr>\n",
       "    <tr>\n",
       "      <th>812</th>\n",
       "      <td>50.073437</td>\n",
       "      <td>-3.621598</td>\n",
       "      <td>18.096031</td>\n",
       "      <td>13.073935</td>\n",
       "      <td>5.832349</td>\n",
       "      <td>-0.001780</td>\n",
       "      <td>0.116033</td>\n",
       "      <td>0.725573</td>\n",
       "      <td>224.0</td>\n",
       "      <td>20190508_JC083_fov1</td>\n",
       "      <td>...</td>\n",
       "      <td>6.931035</td>\n",
       "      <td>3.355222</td>\n",
       "      <td>1.384130</td>\n",
       "      <td>-0.450836</td>\n",
       "      <td>334.168994</td>\n",
       "      <td>7.700439</td>\n",
       "      <td>5.563377</td>\n",
       "      <td>0.161120</td>\n",
       "      <td>-0.450836</td>\n",
       "      <td>-0.020714</td>\n",
       "    </tr>\n",
       "    <tr>\n",
       "      <th>813</th>\n",
       "      <td>52.580983</td>\n",
       "      <td>3.081586</td>\n",
       "      <td>44.776908</td>\n",
       "      <td>20.032769</td>\n",
       "      <td>0.356554</td>\n",
       "      <td>0.002214</td>\n",
       "      <td>-0.040034</td>\n",
       "      <td>0.762499</td>\n",
       "      <td>226.0</td>\n",
       "      <td>20190508_JC083_fov1</td>\n",
       "      <td>...</td>\n",
       "      <td>17.855606</td>\n",
       "      <td>6.650744</td>\n",
       "      <td>2.235183</td>\n",
       "      <td>0.356554</td>\n",
       "      <td>20.429039</td>\n",
       "      <td>19.054003</td>\n",
       "      <td>8.524582</td>\n",
       "      <td>0.381797</td>\n",
       "      <td>0.356554</td>\n",
       "      <td>-0.115267</td>\n",
       "    </tr>\n",
       "    <tr>\n",
       "      <th>814</th>\n",
       "      <td>44.724196</td>\n",
       "      <td>-4.584649</td>\n",
       "      <td>49.655830</td>\n",
       "      <td>26.651993</td>\n",
       "      <td>0.347364</td>\n",
       "      <td>-0.006101</td>\n",
       "      <td>0.041948</td>\n",
       "      <td>0.544860</td>\n",
       "      <td>227.0</td>\n",
       "      <td>20190508_JC083_fov1</td>\n",
       "      <td>...</td>\n",
       "      <td>19.868106</td>\n",
       "      <td>7.193136</td>\n",
       "      <td>1.863119</td>\n",
       "      <td>0.347364</td>\n",
       "      <td>19.902505</td>\n",
       "      <td>21.130141</td>\n",
       "      <td>11.341274</td>\n",
       "      <td>0.301461</td>\n",
       "      <td>0.347364</td>\n",
       "      <td>-0.096214</td>\n",
       "    </tr>\n",
       "    <tr>\n",
       "      <th>817</th>\n",
       "      <td>44.484703</td>\n",
       "      <td>-0.869597</td>\n",
       "      <td>19.138912</td>\n",
       "      <td>37.388228</td>\n",
       "      <td>4.876435</td>\n",
       "      <td>-0.002563</td>\n",
       "      <td>0.075199</td>\n",
       "      <td>0.778877</td>\n",
       "      <td>232.0</td>\n",
       "      <td>20190508_JC083_fov1</td>\n",
       "      <td>...</td>\n",
       "      <td>2.598255</td>\n",
       "      <td>15.696289</td>\n",
       "      <td>0.511897</td>\n",
       "      <td>-1.406751</td>\n",
       "      <td>9.399117</td>\n",
       "      <td>15.909884</td>\n",
       "      <td>8.144218</td>\n",
       "      <td>0.322842</td>\n",
       "      <td>0.164046</td>\n",
       "      <td>-0.217395</td>\n",
       "    </tr>\n",
       "    <tr>\n",
       "      <th>1194</th>\n",
       "      <td>53.957145</td>\n",
       "      <td>2.548797</td>\n",
       "      <td>27.746813</td>\n",
       "      <td>13.209007</td>\n",
       "      <td>0.060078</td>\n",
       "      <td>-0.005116</td>\n",
       "      <td>0.312276</td>\n",
       "      <td>0.898802</td>\n",
       "      <td>197.0</td>\n",
       "      <td>20190508_JC083_fov1</td>\n",
       "      <td>...</td>\n",
       "      <td>11.785853</td>\n",
       "      <td>0.708918</td>\n",
       "      <td>2.100598</td>\n",
       "      <td>0.060078</td>\n",
       "      <td>3.442190</td>\n",
       "      <td>11.807154</td>\n",
       "      <td>5.620854</td>\n",
       "      <td>0.354963</td>\n",
       "      <td>0.060078</td>\n",
       "      <td>-0.312338</td>\n",
       "    </tr>\n",
       "    <tr>\n",
       "      <th>1195</th>\n",
       "      <td>60.771195</td>\n",
       "      <td>1.988298</td>\n",
       "      <td>50.164217</td>\n",
       "      <td>19.823805</td>\n",
       "      <td>0.180837</td>\n",
       "      <td>0.002832</td>\n",
       "      <td>-0.079042</td>\n",
       "      <td>0.778632</td>\n",
       "      <td>204.0</td>\n",
       "      <td>20190508_JC083_fov1</td>\n",
       "      <td>...</td>\n",
       "      <td>20.998387</td>\n",
       "      <td>3.839237</td>\n",
       "      <td>2.530504</td>\n",
       "      <td>0.180837</td>\n",
       "      <td>10.361222</td>\n",
       "      <td>21.346475</td>\n",
       "      <td>8.435661</td>\n",
       "      <td>0.433509</td>\n",
       "      <td>0.180837</td>\n",
       "      <td>-0.277573</td>\n",
       "    </tr>\n",
       "    <tr>\n",
       "      <th>1196</th>\n",
       "      <td>27.697528</td>\n",
       "      <td>-5.058667</td>\n",
       "      <td>28.890404</td>\n",
       "      <td>17.639930</td>\n",
       "      <td>5.366161</td>\n",
       "      <td>-0.005104</td>\n",
       "      <td>0.177550</td>\n",
       "      <td>0.703980</td>\n",
       "      <td>209.0</td>\n",
       "      <td>20190508_JC083_fov1</td>\n",
       "      <td>...</td>\n",
       "      <td>7.476900</td>\n",
       "      <td>9.758751</td>\n",
       "      <td>1.637784</td>\n",
       "      <td>-0.917024</td>\n",
       "      <td>307.458392</td>\n",
       "      <td>12.293789</td>\n",
       "      <td>7.506353</td>\n",
       "      <td>0.241788</td>\n",
       "      <td>-0.917024</td>\n",
       "      <td>0.142072</td>\n",
       "    </tr>\n",
       "    <tr>\n",
       "      <th>1197</th>\n",
       "      <td>48.238708</td>\n",
       "      <td>1.042879</td>\n",
       "      <td>17.429473</td>\n",
       "      <td>37.888430</td>\n",
       "      <td>4.995223</td>\n",
       "      <td>-0.009401</td>\n",
       "      <td>0.197339</td>\n",
       "      <td>0.865207</td>\n",
       "      <td>210.0</td>\n",
       "      <td>20190508_JC083_fov1</td>\n",
       "      <td>...</td>\n",
       "      <td>4.499508</td>\n",
       "      <td>15.482153</td>\n",
       "      <td>0.460021</td>\n",
       "      <td>-1.287962</td>\n",
       "      <td>16.205210</td>\n",
       "      <td>16.122736</td>\n",
       "      <td>7.416797</td>\n",
       "      <td>0.369843</td>\n",
       "      <td>0.282834</td>\n",
       "      <td>-0.163413</td>\n",
       "    </tr>\n",
       "    <tr>\n",
       "      <th>1198</th>\n",
       "      <td>63.632065</td>\n",
       "      <td>2.016490</td>\n",
       "      <td>52.431512</td>\n",
       "      <td>18.421903</td>\n",
       "      <td>0.239581</td>\n",
       "      <td>-0.005698</td>\n",
       "      <td>0.216859</td>\n",
       "      <td>0.909220</td>\n",
       "      <td>211.0</td>\n",
       "      <td>20190508_JC083_fov1</td>\n",
       "      <td>...</td>\n",
       "      <td>21.674016</td>\n",
       "      <td>5.294367</td>\n",
       "      <td>2.846151</td>\n",
       "      <td>0.239581</td>\n",
       "      <td>13.726974</td>\n",
       "      <td>22.311282</td>\n",
       "      <td>7.839108</td>\n",
       "      <td>0.480000</td>\n",
       "      <td>0.239581</td>\n",
       "      <td>-0.252196</td>\n",
       "    </tr>\n",
       "    <tr>\n",
       "      <th>1199</th>\n",
       "      <td>60.533325</td>\n",
       "      <td>10.287261</td>\n",
       "      <td>22.124937</td>\n",
       "      <td>55.446373</td>\n",
       "      <td>5.260519</td>\n",
       "      <td>-0.001223</td>\n",
       "      <td>0.074922</td>\n",
       "      <td>0.523204</td>\n",
       "      <td>215.0</td>\n",
       "      <td>20190508_JC083_fov1</td>\n",
       "      <td>...</td>\n",
       "      <td>12.294753</td>\n",
       "      <td>20.137661</td>\n",
       "      <td>0.399033</td>\n",
       "      <td>-1.022666</td>\n",
       "      <td>31.405540</td>\n",
       "      <td>23.594201</td>\n",
       "      <td>9.414867</td>\n",
       "      <td>0.429559</td>\n",
       "      <td>0.548130</td>\n",
       "      <td>0.018121</td>\n",
       "    </tr>\n",
       "    <tr>\n",
       "      <th>1200</th>\n",
       "      <td>55.281476</td>\n",
       "      <td>-4.843543</td>\n",
       "      <td>30.948800</td>\n",
       "      <td>16.409598</td>\n",
       "      <td>6.252317</td>\n",
       "      <td>-0.001748</td>\n",
       "      <td>0.057979</td>\n",
       "      <td>0.692741</td>\n",
       "      <td>220.0</td>\n",
       "      <td>20190508_JC083_fov1</td>\n",
       "      <td>...</td>\n",
       "      <td>13.163428</td>\n",
       "      <td>0.406457</td>\n",
       "      <td>1.886018</td>\n",
       "      <td>-0.030868</td>\n",
       "      <td>358.231397</td>\n",
       "      <td>13.169702</td>\n",
       "      <td>6.982808</td>\n",
       "      <td>0.307004</td>\n",
       "      <td>-0.030868</td>\n",
       "      <td>-0.288054</td>\n",
       "    </tr>\n",
       "    <tr>\n",
       "      <th>1201</th>\n",
       "      <td>47.628801</td>\n",
       "      <td>-3.631355</td>\n",
       "      <td>36.595432</td>\n",
       "      <td>19.639671</td>\n",
       "      <td>6.096561</td>\n",
       "      <td>-0.002028</td>\n",
       "      <td>0.029643</td>\n",
       "      <td>0.673346</td>\n",
       "      <td>221.0</td>\n",
       "      <td>20190508_JC083_fov1</td>\n",
       "      <td>...</td>\n",
       "      <td>15.302126</td>\n",
       "      <td>2.889369</td>\n",
       "      <td>1.863342</td>\n",
       "      <td>-0.186624</td>\n",
       "      <td>349.307224</td>\n",
       "      <td>15.572524</td>\n",
       "      <td>8.357307</td>\n",
       "      <td>0.301516</td>\n",
       "      <td>-0.186624</td>\n",
       "      <td>-0.189628</td>\n",
       "    </tr>\n",
       "    <tr>\n",
       "      <th>1202</th>\n",
       "      <td>50.073437</td>\n",
       "      <td>-3.621598</td>\n",
       "      <td>18.096031</td>\n",
       "      <td>13.073935</td>\n",
       "      <td>5.832349</td>\n",
       "      <td>-0.001780</td>\n",
       "      <td>0.116033</td>\n",
       "      <td>0.725573</td>\n",
       "      <td>224.0</td>\n",
       "      <td>20190508_JC083_fov1</td>\n",
       "      <td>...</td>\n",
       "      <td>6.931035</td>\n",
       "      <td>3.355222</td>\n",
       "      <td>1.384130</td>\n",
       "      <td>-0.450836</td>\n",
       "      <td>334.168994</td>\n",
       "      <td>7.700439</td>\n",
       "      <td>5.563377</td>\n",
       "      <td>0.161120</td>\n",
       "      <td>-0.450836</td>\n",
       "      <td>-0.020714</td>\n",
       "    </tr>\n",
       "    <tr>\n",
       "      <th>1203</th>\n",
       "      <td>52.580983</td>\n",
       "      <td>3.081586</td>\n",
       "      <td>44.776908</td>\n",
       "      <td>20.032769</td>\n",
       "      <td>0.356554</td>\n",
       "      <td>0.002214</td>\n",
       "      <td>-0.040034</td>\n",
       "      <td>0.762499</td>\n",
       "      <td>226.0</td>\n",
       "      <td>20190508_JC083_fov1</td>\n",
       "      <td>...</td>\n",
       "      <td>17.855606</td>\n",
       "      <td>6.650744</td>\n",
       "      <td>2.235183</td>\n",
       "      <td>0.356554</td>\n",
       "      <td>20.429039</td>\n",
       "      <td>19.054003</td>\n",
       "      <td>8.524582</td>\n",
       "      <td>0.381797</td>\n",
       "      <td>0.356554</td>\n",
       "      <td>-0.115267</td>\n",
       "    </tr>\n",
       "    <tr>\n",
       "      <th>1204</th>\n",
       "      <td>44.724196</td>\n",
       "      <td>-4.584649</td>\n",
       "      <td>49.655830</td>\n",
       "      <td>26.651993</td>\n",
       "      <td>0.347364</td>\n",
       "      <td>-0.006101</td>\n",
       "      <td>0.041948</td>\n",
       "      <td>0.544860</td>\n",
       "      <td>227.0</td>\n",
       "      <td>20190508_JC083_fov1</td>\n",
       "      <td>...</td>\n",
       "      <td>19.868106</td>\n",
       "      <td>7.193136</td>\n",
       "      <td>1.863119</td>\n",
       "      <td>0.347364</td>\n",
       "      <td>19.902505</td>\n",
       "      <td>21.130141</td>\n",
       "      <td>11.341274</td>\n",
       "      <td>0.301461</td>\n",
       "      <td>0.347364</td>\n",
       "      <td>-0.096214</td>\n",
       "    </tr>\n",
       "    <tr>\n",
       "      <th>1205</th>\n",
       "      <td>44.484703</td>\n",
       "      <td>-0.869597</td>\n",
       "      <td>19.138912</td>\n",
       "      <td>37.388228</td>\n",
       "      <td>4.876435</td>\n",
       "      <td>-0.002563</td>\n",
       "      <td>0.075199</td>\n",
       "      <td>0.778877</td>\n",
       "      <td>232.0</td>\n",
       "      <td>20190508_JC083_fov1</td>\n",
       "      <td>...</td>\n",
       "      <td>2.598255</td>\n",
       "      <td>15.696289</td>\n",
       "      <td>0.511897</td>\n",
       "      <td>-1.406751</td>\n",
       "      <td>9.399117</td>\n",
       "      <td>15.909884</td>\n",
       "      <td>8.144218</td>\n",
       "      <td>0.322842</td>\n",
       "      <td>0.164046</td>\n",
       "      <td>-0.217395</td>\n",
       "    </tr>\n",
       "  </tbody>\n",
       "</table>\n",
       "<p>24 rows × 27 columns</p>\n",
       "</div>"
      ],
      "text/plain": [
       "             x0         y0     fwhm_x     fwhm_y     theta    offset  \\\n",
       "804   53.957145   2.548797  27.746813  13.209007  0.060078 -0.005116   \n",
       "805   60.771195   1.988298  50.164217  19.823805  0.180837  0.002832   \n",
       "806   27.697528  -5.058667  28.890404  17.639930  5.366161 -0.005104   \n",
       "807   48.238708   1.042879  17.429473  37.888430  4.995223 -0.009401   \n",
       "808   63.632065   2.016490  52.431512  18.421903  0.239581 -0.005698   \n",
       "809   60.533325  10.287261  22.124937  55.446373  5.260519 -0.001223   \n",
       "810   55.281476  -4.843543  30.948800  16.409598  6.252317 -0.001748   \n",
       "811   47.628801  -3.631355  36.595432  19.639671  6.096561 -0.002028   \n",
       "812   50.073437  -3.621598  18.096031  13.073935  5.832349 -0.001780   \n",
       "813   52.580983   3.081586  44.776908  20.032769  0.356554  0.002214   \n",
       "814   44.724196  -4.584649  49.655830  26.651993  0.347364 -0.006101   \n",
       "817   44.484703  -0.869597  19.138912  37.388228  4.876435 -0.002563   \n",
       "1194  53.957145   2.548797  27.746813  13.209007  0.060078 -0.005116   \n",
       "1195  60.771195   1.988298  50.164217  19.823805  0.180837  0.002832   \n",
       "1196  27.697528  -5.058667  28.890404  17.639930  5.366161 -0.005104   \n",
       "1197  48.238708   1.042879  17.429473  37.888430  4.995223 -0.009401   \n",
       "1198  63.632065   2.016490  52.431512  18.421903  0.239581 -0.005698   \n",
       "1199  60.533325  10.287261  22.124937  55.446373  5.260519 -0.001223   \n",
       "1200  55.281476  -4.843543  30.948800  16.409598  6.252317 -0.001748   \n",
       "1201  47.628801  -3.631355  36.595432  19.639671  6.096561 -0.002028   \n",
       "1202  50.073437  -3.621598  18.096031  13.073935  5.832349 -0.001780   \n",
       "1203  52.580983   3.081586  44.776908  20.032769  0.356554  0.002214   \n",
       "1204  44.724196  -4.584649  49.655830  26.651993  0.347364 -0.006101   \n",
       "1205  44.484703  -0.869597  19.138912  37.388228  4.876435 -0.002563   \n",
       "\n",
       "      amplitude        r2   cell              datakey  ...         fx  \\\n",
       "804    0.312276  0.898802  197.0  20190508_JC083_fov1  ...  11.785853   \n",
       "805   -0.079042  0.778632  204.0  20190508_JC083_fov1  ...  20.998387   \n",
       "806    0.177550  0.703980  209.0  20190508_JC083_fov1  ...   7.476900   \n",
       "807    0.197339  0.865207  210.0  20190508_JC083_fov1  ...   4.499508   \n",
       "808    0.216859  0.909220  211.0  20190508_JC083_fov1  ...  21.674016   \n",
       "809    0.074922  0.523204  215.0  20190508_JC083_fov1  ...  12.294753   \n",
       "810    0.057979  0.692741  220.0  20190508_JC083_fov1  ...  13.163428   \n",
       "811    0.029643  0.673346  221.0  20190508_JC083_fov1  ...  15.302126   \n",
       "812    0.116033  0.725573  224.0  20190508_JC083_fov1  ...   6.931035   \n",
       "813   -0.040034  0.762499  226.0  20190508_JC083_fov1  ...  17.855606   \n",
       "814    0.041948  0.544860  227.0  20190508_JC083_fov1  ...  19.868106   \n",
       "817    0.075199  0.778877  232.0  20190508_JC083_fov1  ...   2.598255   \n",
       "1194   0.312276  0.898802  197.0  20190508_JC083_fov1  ...  11.785853   \n",
       "1195  -0.079042  0.778632  204.0  20190508_JC083_fov1  ...  20.998387   \n",
       "1196   0.177550  0.703980  209.0  20190508_JC083_fov1  ...   7.476900   \n",
       "1197   0.197339  0.865207  210.0  20190508_JC083_fov1  ...   4.499508   \n",
       "1198   0.216859  0.909220  211.0  20190508_JC083_fov1  ...  21.674016   \n",
       "1199   0.074922  0.523204  215.0  20190508_JC083_fov1  ...  12.294753   \n",
       "1200   0.057979  0.692741  220.0  20190508_JC083_fov1  ...  13.163428   \n",
       "1201   0.029643  0.673346  221.0  20190508_JC083_fov1  ...  15.302126   \n",
       "1202   0.116033  0.725573  224.0  20190508_JC083_fov1  ...   6.931035   \n",
       "1203  -0.040034  0.762499  226.0  20190508_JC083_fov1  ...  17.855606   \n",
       "1204   0.041948  0.544860  227.0  20190508_JC083_fov1  ...  19.868106   \n",
       "1205   0.075199  0.778877  232.0  20190508_JC083_fov1  ...   2.598255   \n",
       "\n",
       "             fy  ratio_xy   theta_c  theta_Mm_deg  major_axis  minor_axis  \\\n",
       "804    0.708918  2.100598  0.060078      3.442190   11.807154    5.620854   \n",
       "805    3.839237  2.530504  0.180837     10.361222   21.346475    8.435661   \n",
       "806    9.758751  1.637784 -0.917024    307.458392   12.293789    7.506353   \n",
       "807   15.482153  0.460021 -1.287962     16.205210   16.122736    7.416797   \n",
       "808    5.294367  2.846151  0.239581     13.726974   22.311282    7.839108   \n",
       "809   20.137661  0.399033 -1.022666     31.405540   23.594201    9.414867   \n",
       "810    0.406457  1.886018 -0.030868    358.231397   13.169702    6.982808   \n",
       "811    2.889369  1.863342 -0.186624    349.307224   15.572524    8.357307   \n",
       "812    3.355222  1.384130 -0.450836    334.168994    7.700439    5.563377   \n",
       "813    6.650744  2.235183  0.356554     20.429039   19.054003    8.524582   \n",
       "814    7.193136  1.863119  0.347364     19.902505   21.130141   11.341274   \n",
       "817   15.696289  0.511897 -1.406751      9.399117   15.909884    8.144218   \n",
       "1194   0.708918  2.100598  0.060078      3.442190   11.807154    5.620854   \n",
       "1195   3.839237  2.530504  0.180837     10.361222   21.346475    8.435661   \n",
       "1196   9.758751  1.637784 -0.917024    307.458392   12.293789    7.506353   \n",
       "1197  15.482153  0.460021 -1.287962     16.205210   16.122736    7.416797   \n",
       "1198   5.294367  2.846151  0.239581     13.726974   22.311282    7.839108   \n",
       "1199  20.137661  0.399033 -1.022666     31.405540   23.594201    9.414867   \n",
       "1200   0.406457  1.886018 -0.030868    358.231397   13.169702    6.982808   \n",
       "1201   2.889369  1.863342 -0.186624    349.307224   15.572524    8.357307   \n",
       "1202   3.355222  1.384130 -0.450836    334.168994    7.700439    5.563377   \n",
       "1203   6.650744  2.235183  0.356554     20.429039   19.054003    8.524582   \n",
       "1204   7.193136  1.863119  0.347364     19.902505   21.130141   11.341274   \n",
       "1205  15.696289  0.511897 -1.406751      9.399117   15.909884    8.144218   \n",
       "\n",
       "      anisotropy  theta_Mm_c  aniso_index  \n",
       "804     0.354963    0.060078    -0.312338  \n",
       "805     0.433509    0.180837    -0.277573  \n",
       "806     0.241788   -0.917024     0.142072  \n",
       "807     0.369843    0.282834    -0.163413  \n",
       "808     0.480000    0.239581    -0.252196  \n",
       "809     0.429559    0.548130     0.018121  \n",
       "810     0.307004   -0.030868    -0.288054  \n",
       "811     0.301516   -0.186624    -0.189628  \n",
       "812     0.161120   -0.450836    -0.020714  \n",
       "813     0.381797    0.356554    -0.115267  \n",
       "814     0.301461    0.347364    -0.096214  \n",
       "817     0.322842    0.164046    -0.217395  \n",
       "1194    0.354963    0.060078    -0.312338  \n",
       "1195    0.433509    0.180837    -0.277573  \n",
       "1196    0.241788   -0.917024     0.142072  \n",
       "1197    0.369843    0.282834    -0.163413  \n",
       "1198    0.480000    0.239581    -0.252196  \n",
       "1199    0.429559    0.548130     0.018121  \n",
       "1200    0.307004   -0.030868    -0.288054  \n",
       "1201    0.301516   -0.186624    -0.189628  \n",
       "1202    0.161120   -0.450836    -0.020714  \n",
       "1203    0.381797    0.356554    -0.115267  \n",
       "1204    0.301461    0.347364    -0.096214  \n",
       "1205    0.322842    0.164046    -0.217395  \n",
       "\n",
       "[24 rows x 27 columns]"
      ]
     },
     "execution_count": 169,
     "metadata": {},
     "output_type": "execute_result"
    }
   ],
   "source": [
    "curr_rois = [r[1] for r in bad_assignment]\n",
    "rfdata[(rfdata.datakey=='20190508_JC083_fov1') & (rfdata['cell'].isin(curr_rois))]\n",
    "\n",
    "       "
   ]
  },
  {
   "cell_type": "code",
   "execution_count": 174,
   "id": "baa15697",
   "metadata": {},
   "outputs": [],
   "source": [
    "c1 = cells0[(cells0.datakey=='20190508_JC083_fov1') & (cells0.visual_area=='V1')]['cell']\n",
    "c2 = cells0[(cells0.datakey=='20190508_JC083_fov1') & (cells0.visual_area=='Lm')]['cell']"
   ]
  },
  {
   "cell_type": "code",
   "execution_count": 178,
   "id": "50d72c22",
   "metadata": {},
   "outputs": [
    {
     "data": {
      "text/plain": [
       "42"
      ]
     },
     "execution_count": 178,
     "metadata": {},
     "output_type": "execute_result"
    }
   ],
   "source": [
    "len(np.intersect1d(c1, c2))\n"
   ]
  },
  {
   "cell_type": "code",
   "execution_count": null,
   "id": "a8dc5698",
   "metadata": {},
   "outputs": [],
   "source": []
  },
  {
   "cell_type": "code",
   "execution_count": null,
   "id": "34433ee8",
   "metadata": {},
   "outputs": [],
   "source": []
  },
  {
   "cell_type": "code",
   "execution_count": 128,
   "id": "different-induction",
   "metadata": {},
   "outputs": [
    {
     "name": "stdout",
     "output_type": "stream",
     "text": [
      "/n/coxfs01/julianarhee/aggregate-visual-areas/receptive-fields/dataframes\n"
     ]
    }
   ],
   "source": [
    "dst_dir = os.path.join(aggregate_dir, 'receptive-fields', 'dataframes')\n",
    "if not os.path.exists(dst_dir):\n",
    "    os.makedirs(dst_dir)\n",
    "print(dst_dir)\n",
    "\n",
    "poly_fpath = os.path.join(dst_dir, 'average_polys.pkl')\n",
    "if os.path.exists(poly_fpath):\n",
    "    with open(poly_fpath, 'rb') as f:\n",
    "        POLYS = pkl.load(f)\n",
    "else:\n",
    "    POLYS = None"
   ]
  },
  {
   "cell_type": "code",
   "execution_count": 130,
   "id": "cooperative-captain",
   "metadata": {},
   "outputs": [],
   "source": [
    "# Process all cells in fov\n",
    "cols = [c for c in rfdf.columns if c!='visual_area']\n",
    "by_dkey = rfdf[cols].drop_duplicates()\n",
    "# Add new, if needed\n",
    "check_these={}\n",
    "add_list=[]\n",
    "for dk, curr_rfs in by_dkey.groupby('datakey'):\n",
    "    if POLYS is not None:\n",
    "        found_ = POLYS[(POLYS.datakey==dk)]\n",
    "        need_ = curr_rfs[curr_rfs['cell'].isin(found_['cell'].values)]\n",
    "    else:\n",
    "        need_ = curr_rfs.copy()\n",
    "    rf_polys, check_rfs = su.get_rf_polys(need_, check_invalid=True)\n",
    "    if len(check_rfs)>0:\n",
    "        check_these[dk]= check_rfs\n",
    "    rf_polys['datakey'] = dk\n",
    "    add_list.append(rf_polys)\n",
    "\n",
    "#     rfs_ = params_deg_to_pixels(curr_rfs)\n",
    "#     rf_screen = rf_to_screen(ri, rfs_, resolution=resolution)\n",
    "#     rpoly = image_to_poly(rf_screen.astype(np.uint8))\n",
    "    "
   ]
  },
  {
   "cell_type": "code",
   "execution_count": 132,
   "id": "7da9cb65",
   "metadata": {},
   "outputs": [
    {
     "data": {
      "text/plain": [
       "46"
      ]
     },
     "execution_count": 132,
     "metadata": {},
     "output_type": "execute_result"
    }
   ],
   "source": [
    "len(rfdf['datakey'].unique())"
   ]
  },
  {
   "cell_type": "code",
   "execution_count": 136,
   "id": "cf95c1c9",
   "metadata": {},
   "outputs": [
    {
     "data": {
      "text/html": [
       "<div>\n",
       "<style scoped>\n",
       "    .dataframe tbody tr th:only-of-type {\n",
       "        vertical-align: middle;\n",
       "    }\n",
       "\n",
       "    .dataframe tbody tr th {\n",
       "        vertical-align: top;\n",
       "    }\n",
       "\n",
       "    .dataframe thead th {\n",
       "        text-align: right;\n",
       "    }\n",
       "</style>\n",
       "<table border=\"1\" class=\"dataframe\">\n",
       "  <thead>\n",
       "    <tr style=\"text-align: right;\">\n",
       "      <th></th>\n",
       "      <th>poly</th>\n",
       "      <th>cell</th>\n",
       "      <th>datakey</th>\n",
       "    </tr>\n",
       "  </thead>\n",
       "  <tbody>\n",
       "    <tr>\n",
       "      <th>0</th>\n",
       "      <td>POLYGON ((964 267, 963 268, 950 268, 949 269, ...</td>\n",
       "      <td>66.0</td>\n",
       "      <td>20191111_JC120_fov1</td>\n",
       "    </tr>\n",
       "    <tr>\n",
       "      <th>1</th>\n",
       "      <td>POLYGON ((1306 210, 1305 211, 1296 211, 1295 2...</td>\n",
       "      <td>75.0</td>\n",
       "      <td>20191111_JC120_fov1</td>\n",
       "    </tr>\n",
       "    <tr>\n",
       "      <th>2</th>\n",
       "      <td>POLYGON ((162 526, 161 527, 153 527, 152 528, ...</td>\n",
       "      <td>84.0</td>\n",
       "      <td>20191111_JC120_fov1</td>\n",
       "    </tr>\n",
       "    <tr>\n",
       "      <th>3</th>\n",
       "      <td>POLYGON ((1122 405, 1121 406, 1099 406, 1098 4...</td>\n",
       "      <td>183.0</td>\n",
       "      <td>20191111_JC120_fov1</td>\n",
       "    </tr>\n",
       "  </tbody>\n",
       "</table>\n",
       "</div>"
      ],
      "text/plain": [
       "                                                poly   cell  \\\n",
       "0  POLYGON ((964 267, 963 268, 950 268, 949 269, ...   66.0   \n",
       "1  POLYGON ((1306 210, 1305 211, 1296 211, 1295 2...   75.0   \n",
       "2  POLYGON ((162 526, 161 527, 153 527, 152 528, ...   84.0   \n",
       "3  POLYGON ((1122 405, 1121 406, 1099 406, 1098 4...  183.0   \n",
       "\n",
       "               datakey  \n",
       "0  20191111_JC120_fov1  \n",
       "1  20191111_JC120_fov1  \n",
       "2  20191111_JC120_fov1  \n",
       "3  20191111_JC120_fov1  "
      ]
     },
     "execution_count": 136,
     "metadata": {},
     "output_type": "execute_result"
    }
   ],
   "source": [
    "rf_polys"
   ]
  },
  {
   "cell_type": "code",
   "execution_count": 29,
   "id": "million-congo",
   "metadata": {
    "scrolled": true
   },
   "outputs": [
    {
     "ename": "ValueError",
     "evalue": "invalid literal for int() with base 10: 'x0_pix'",
     "output_type": "error",
     "traceback": [
      "\u001b[0;31m---------------------------------------------------------------------------\u001b[0m",
      "\u001b[0;31mValueError\u001b[0m                                Traceback (most recent call last)",
      "\u001b[0;32m<ipython-input-29-f88a6716fefa>\u001b[0m in \u001b[0;36m<module>\u001b[0;34m\u001b[0m\n\u001b[1;32m      1\u001b[0m \u001b[0mrfs_\u001b[0m \u001b[0;34m=\u001b[0m \u001b[0msu\u001b[0m\u001b[0;34m.\u001b[0m\u001b[0mparams_deg_to_pixels\u001b[0m\u001b[0;34m(\u001b[0m\u001b[0mcurr_rfs\u001b[0m\u001b[0;34m)\u001b[0m\u001b[0;34m\u001b[0m\u001b[0;34m\u001b[0m\u001b[0m\n\u001b[1;32m      2\u001b[0m \u001b[0;32mfor\u001b[0m \u001b[0mri\u001b[0m\u001b[0;34m,\u001b[0m \u001b[0mr_\u001b[0m \u001b[0;32min\u001b[0m \u001b[0mrfs_\u001b[0m\u001b[0;34m.\u001b[0m\u001b[0mgroupby\u001b[0m\u001b[0;34m(\u001b[0m\u001b[0;34m'cell'\u001b[0m\u001b[0;34m)\u001b[0m\u001b[0;34m:\u001b[0m\u001b[0;34m\u001b[0m\u001b[0;34m\u001b[0m\u001b[0m\n\u001b[0;32m----> 3\u001b[0;31m     \u001b[0mrf_screen\u001b[0m \u001b[0;34m=\u001b[0m \u001b[0msu\u001b[0m\u001b[0;34m.\u001b[0m\u001b[0mrf_to_screen\u001b[0m\u001b[0;34m(\u001b[0m\u001b[0mri\u001b[0m\u001b[0;34m,\u001b[0m \u001b[0mr_\u001b[0m\u001b[0;34m)\u001b[0m\u001b[0;34m\u001b[0m\u001b[0;34m\u001b[0m\u001b[0m\n\u001b[0m\u001b[1;32m      4\u001b[0m     \u001b[0mrpoly\u001b[0m \u001b[0;34m=\u001b[0m \u001b[0msu\u001b[0m\u001b[0;34m.\u001b[0m\u001b[0mimage_to_poly\u001b[0m\u001b[0;34m(\u001b[0m\u001b[0mrf_screen\u001b[0m\u001b[0;34m.\u001b[0m\u001b[0mastype\u001b[0m\u001b[0;34m(\u001b[0m\u001b[0mnp\u001b[0m\u001b[0;34m.\u001b[0m\u001b[0muint8\u001b[0m\u001b[0;34m)\u001b[0m\u001b[0;34m)\u001b[0m\u001b[0;34m\u001b[0m\u001b[0;34m\u001b[0m\u001b[0m\n",
      "\u001b[0;32m/net/coxfs01/srv/export/coxfs01/share_root/2p-pipeline/repos/rat-2p-area-characterizations/analyze2p/objects/sim_utils.py\u001b[0m in \u001b[0;36mrf_to_screen\u001b[0;34m(rid, rfs_, resolution)\u001b[0m\n\u001b[1;32m    382\u001b[0m     \u001b[0;31m# Create mask\u001b[0m\u001b[0;34m\u001b[0m\u001b[0;34m\u001b[0m\u001b[0;34m\u001b[0m\u001b[0m\n\u001b[1;32m    383\u001b[0m     \u001b[0mcurr_rf_mask\u001b[0m \u001b[0;34m=\u001b[0m \u001b[0mnp\u001b[0m\u001b[0;34m.\u001b[0m\u001b[0mzeros\u001b[0m\u001b[0;34m(\u001b[0m\u001b[0mresolution\u001b[0m\u001b[0;34m[\u001b[0m\u001b[0;34m:\u001b[0m\u001b[0;34m:\u001b[0m\u001b[0;34m-\u001b[0m\u001b[0;36m1\u001b[0m\u001b[0;34m]\u001b[0m\u001b[0;34m)\u001b[0m\u001b[0;34m.\u001b[0m\u001b[0mastype\u001b[0m\u001b[0;34m(\u001b[0m\u001b[0mnp\u001b[0m\u001b[0;34m.\u001b[0m\u001b[0muint8\u001b[0m\u001b[0;34m)\u001b[0m\u001b[0;34m\u001b[0m\u001b[0;34m\u001b[0m\u001b[0m\n\u001b[0;32m--> 384\u001b[0;31m     curr_rf_mask=cv2.ellipse(curr_rf_mask, (int(x0), int(y0)), \n\u001b[0m\u001b[1;32m    385\u001b[0m                      \u001b[0;34m(\u001b[0m\u001b[0mint\u001b[0m\u001b[0;34m(\u001b[0m\u001b[0mfwhm_x\u001b[0m\u001b[0;34m/\u001b[0m\u001b[0;36m2\u001b[0m\u001b[0;34m)\u001b[0m\u001b[0;34m,\u001b[0m \u001b[0mint\u001b[0m\u001b[0;34m(\u001b[0m\u001b[0mfwhm_y\u001b[0m\u001b[0;34m/\u001b[0m\u001b[0;36m2\u001b[0m\u001b[0;34m)\u001b[0m\u001b[0;34m)\u001b[0m\u001b[0;34m,\u001b[0m\u001b[0;34m\u001b[0m\u001b[0;34m\u001b[0m\u001b[0m\n\u001b[1;32m    386\u001b[0m                      \u001b[0mnp\u001b[0m\u001b[0;34m.\u001b[0m\u001b[0mrad2deg\u001b[0m\u001b[0;34m(\u001b[0m\u001b[0mtheta\u001b[0m\u001b[0;34m)\u001b[0m\u001b[0;34m,\u001b[0m\u001b[0;34m\u001b[0m\u001b[0;34m\u001b[0m\u001b[0m\n",
      "\u001b[0;31mValueError\u001b[0m: invalid literal for int() with base 10: 'x0_pix'"
     ]
    }
   ],
   "source": [
    "rfs_ = su.params_deg_to_pixels(curr_rfs)\n",
    "for ri, r_ in rfs_.groupby('cell'):\n",
    "    rf_screen = su.rf_to_screen(ri, r_)\n",
    "    rpoly = su.image_to_poly(rf_screen.astype(np.uint8))"
   ]
  },
  {
   "cell_type": "code",
   "execution_count": 38,
   "id": "growing-johnston",
   "metadata": {},
   "outputs": [
    {
     "data": {
      "text/html": [
       "<div>\n",
       "<style scoped>\n",
       "    .dataframe tbody tr th:only-of-type {\n",
       "        vertical-align: middle;\n",
       "    }\n",
       "\n",
       "    .dataframe tbody tr th {\n",
       "        vertical-align: top;\n",
       "    }\n",
       "\n",
       "    .dataframe thead th {\n",
       "        text-align: right;\n",
       "    }\n",
       "</style>\n",
       "<table border=\"1\" class=\"dataframe\">\n",
       "  <thead>\n",
       "    <tr style=\"text-align: right;\">\n",
       "      <th></th>\n",
       "      <th>poly</th>\n",
       "      <th>cell</th>\n",
       "    </tr>\n",
       "  </thead>\n",
       "  <tbody>\n",
       "    <tr>\n",
       "      <th>0</th>\n",
       "      <td>POLYGON ((1165 748, 1164 749, 1163 749, 1162 7...</td>\n",
       "      <td>177.0</td>\n",
       "    </tr>\n",
       "    <tr>\n",
       "      <th>1</th>\n",
       "      <td>POLYGON ((981 702, 980 703, 969 703, 968 704, ...</td>\n",
       "      <td>180.0</td>\n",
       "    </tr>\n",
       "    <tr>\n",
       "      <th>2</th>\n",
       "      <td>POLYGON ((859 547, 858 548, 846 548, 845 549, ...</td>\n",
       "      <td>191.0</td>\n",
       "    </tr>\n",
       "    <tr>\n",
       "      <th>3</th>\n",
       "      <td>POLYGON ((1086 635, 1085 636, 1081 636, 1080 6...</td>\n",
       "      <td>206.0</td>\n",
       "    </tr>\n",
       "    <tr>\n",
       "      <th>4</th>\n",
       "      <td>POLYGON ((841 588, 840 589, 835 589, 834 590, ...</td>\n",
       "      <td>209.0</td>\n",
       "    </tr>\n",
       "    <tr>\n",
       "      <th>5</th>\n",
       "      <td>POLYGON ((1058 529, 1057 530, 1051 530, 1050 5...</td>\n",
       "      <td>271.0</td>\n",
       "    </tr>\n",
       "    <tr>\n",
       "      <th>6</th>\n",
       "      <td>POLYGON ((916 471, 915 472, 906 472, 905 473, ...</td>\n",
       "      <td>272.0</td>\n",
       "    </tr>\n",
       "    <tr>\n",
       "      <th>7</th>\n",
       "      <td>POLYGON ((1168 616, 1167 617, 1164 617, 1163 6...</td>\n",
       "      <td>289.0</td>\n",
       "    </tr>\n",
       "    <tr>\n",
       "      <th>8</th>\n",
       "      <td>POLYGON ((1711 568, 1710 569, 1709 569, 1708 5...</td>\n",
       "      <td>309.0</td>\n",
       "    </tr>\n",
       "    <tr>\n",
       "      <th>9</th>\n",
       "      <td>POLYGON ((1556 459, 1555 460, 1550 460, 1549 4...</td>\n",
       "      <td>317.0</td>\n",
       "    </tr>\n",
       "  </tbody>\n",
       "</table>\n",
       "</div>"
      ],
      "text/plain": [
       "                                                poly   cell\n",
       "0  POLYGON ((1165 748, 1164 749, 1163 749, 1162 7...  177.0\n",
       "1  POLYGON ((981 702, 980 703, 969 703, 968 704, ...  180.0\n",
       "2  POLYGON ((859 547, 858 548, 846 548, 845 549, ...  191.0\n",
       "3  POLYGON ((1086 635, 1085 636, 1081 636, 1080 6...  206.0\n",
       "4  POLYGON ((841 588, 840 589, 835 589, 834 590, ...  209.0\n",
       "5  POLYGON ((1058 529, 1057 530, 1051 530, 1050 5...  271.0\n",
       "6  POLYGON ((916 471, 915 472, 906 472, 905 473, ...  272.0\n",
       "7  POLYGON ((1168 616, 1167 617, 1164 617, 1163 6...  289.0\n",
       "8  POLYGON ((1711 568, 1710 569, 1709 569, 1708 5...  309.0\n",
       "9  POLYGON ((1556 459, 1555 460, 1550 460, 1549 4...  317.0"
      ]
     },
     "execution_count": 38,
     "metadata": {},
     "output_type": "execute_result"
    }
   ],
   "source": [
    "rf_polys"
   ]
  },
  {
   "cell_type": "code",
   "execution_count": 32,
   "id": "fantastic-tuition",
   "metadata": {},
   "outputs": [
    {
     "data": {
      "text/html": [
       "<div>\n",
       "<style scoped>\n",
       "    .dataframe tbody tr th:only-of-type {\n",
       "        vertical-align: middle;\n",
       "    }\n",
       "\n",
       "    .dataframe tbody tr th {\n",
       "        vertical-align: top;\n",
       "    }\n",
       "\n",
       "    .dataframe thead th {\n",
       "        text-align: right;\n",
       "    }\n",
       "</style>\n",
       "<table border=\"1\" class=\"dataframe\">\n",
       "  <thead>\n",
       "    <tr style=\"text-align: right;\">\n",
       "      <th></th>\n",
       "      <th>datakey</th>\n",
       "      <th>animalid</th>\n",
       "      <th>session</th>\n",
       "      <th>cell</th>\n",
       "      <th>x0</th>\n",
       "      <th>y0</th>\n",
       "      <th>fwhm_x</th>\n",
       "      <th>fwhm_y</th>\n",
       "      <th>theta</th>\n",
       "      <th>offset</th>\n",
       "      <th>...</th>\n",
       "      <th>minor_axis</th>\n",
       "      <th>anisotropy</th>\n",
       "      <th>theta_Mm_c</th>\n",
       "      <th>aniso_index</th>\n",
       "      <th>visual_area</th>\n",
       "      <th>experiment</th>\n",
       "      <th>x0_pix</th>\n",
       "      <th>y0_pix</th>\n",
       "      <th>fwhm_x_pix</th>\n",
       "      <th>fwhm_y_pix</th>\n",
       "    </tr>\n",
       "  </thead>\n",
       "  <tbody>\n",
       "    <tr>\n",
       "      <th>197.0</th>\n",
       "      <td>20190508_JC083_fov1</td>\n",
       "      <td>JC083</td>\n",
       "      <td>20190508</td>\n",
       "      <td>197.0</td>\n",
       "      <td>53.957145</td>\n",
       "      <td>2.548797</td>\n",
       "      <td>27.746813</td>\n",
       "      <td>13.209007</td>\n",
       "      <td>0.060078</td>\n",
       "      <td>-0.005116</td>\n",
       "      <td>...</td>\n",
       "      <td>5.620854</td>\n",
       "      <td>0.354963</td>\n",
       "      <td>0.060078</td>\n",
       "      <td>-0.312338</td>\n",
       "      <td>Lm</td>\n",
       "      <td>average_rfs</td>\n",
       "      <td>1827</td>\n",
       "      <td>581</td>\n",
       "      <td>445.336347</td>\n",
       "      <td>212.004559</td>\n",
       "    </tr>\n",
       "    <tr>\n",
       "      <th>197.0</th>\n",
       "      <td>20190508_JC083_fov1</td>\n",
       "      <td>JC083</td>\n",
       "      <td>20190508</td>\n",
       "      <td>197.0</td>\n",
       "      <td>53.957145</td>\n",
       "      <td>2.548797</td>\n",
       "      <td>27.746813</td>\n",
       "      <td>13.209007</td>\n",
       "      <td>0.060078</td>\n",
       "      <td>-0.005116</td>\n",
       "      <td>...</td>\n",
       "      <td>5.620854</td>\n",
       "      <td>0.354963</td>\n",
       "      <td>0.060078</td>\n",
       "      <td>-0.312338</td>\n",
       "      <td>V1</td>\n",
       "      <td>average_rfs</td>\n",
       "      <td>1827</td>\n",
       "      <td>581</td>\n",
       "      <td>445.336347</td>\n",
       "      <td>212.004559</td>\n",
       "    </tr>\n",
       "  </tbody>\n",
       "</table>\n",
       "<p>2 rows × 34 columns</p>\n",
       "</div>"
      ],
      "text/plain": [
       "                   datakey animalid   session   cell         x0        y0  \\\n",
       "197.0  20190508_JC083_fov1    JC083  20190508  197.0  53.957145  2.548797   \n",
       "197.0  20190508_JC083_fov1    JC083  20190508  197.0  53.957145  2.548797   \n",
       "\n",
       "          fwhm_x     fwhm_y     theta    offset  ...  minor_axis  anisotropy  \\\n",
       "197.0  27.746813  13.209007  0.060078 -0.005116  ...    5.620854    0.354963   \n",
       "197.0  27.746813  13.209007  0.060078 -0.005116  ...    5.620854    0.354963   \n",
       "\n",
       "       theta_Mm_c  aniso_index  visual_area   experiment  x0_pix  y0_pix  \\\n",
       "197.0    0.060078    -0.312338           Lm  average_rfs    1827     581   \n",
       "197.0    0.060078    -0.312338           V1  average_rfs    1827     581   \n",
       "\n",
       "       fwhm_x_pix  fwhm_y_pix  \n",
       "197.0  445.336347  212.004559  \n",
       "197.0  445.336347  212.004559  \n",
       "\n",
       "[2 rows x 34 columns]"
      ]
     },
     "execution_count": 32,
     "metadata": {},
     "output_type": "execute_result"
    }
   ],
   "source": [
    "r_"
   ]
  },
  {
   "cell_type": "code",
   "execution_count": null,
   "id": "widespread-house",
   "metadata": {},
   "outputs": [],
   "source": []
  },
  {
   "cell_type": "code",
   "execution_count": null,
   "id": "registered-blowing",
   "metadata": {},
   "outputs": [],
   "source": []
  },
  {
   "cell_type": "code",
   "execution_count": 92,
   "id": "proof-metabolism",
   "metadata": {},
   "outputs": [],
   "source": [
    "stim_polys = su.get_stimulus_polys(dk, experiment) "
   ]
  },
  {
   "cell_type": "code",
   "execution_count": 93,
   "id": "through-victim",
   "metadata": {
    "scrolled": true
   },
   "outputs": [],
   "source": [
    "o_=[]\n",
    "for ri, rf_poly in rf_polys[['cell', 'poly']].values:\n",
    "    res = su.cell_overlap_with_stimuli(ri, rf_poly, stim_polys)\n",
    "    o_.append(res)\n",
    "           "
   ]
  },
  {
   "cell_type": "code",
   "execution_count": 32,
   "id": "collect-stable",
   "metadata": {},
   "outputs": [],
   "source": [
    "for si, spoly in enumerate(stim_polys['poly'].values):\n",
    "    si"
   ]
  },
  {
   "cell_type": "code",
   "execution_count": 38,
   "id": "compatible-horror",
   "metadata": {},
   "outputs": [
    {
     "ename": "TypeError",
     "evalue": "'method' object is not subscriptable",
     "output_type": "error",
     "traceback": [
      "\u001b[0;31m---------------------------------------------------------------------------\u001b[0m",
      "\u001b[0;31mTypeError\u001b[0m                                 Traceback (most recent call last)",
      "\u001b[0;32m<ipython-input-38-e9683d58204a>\u001b[0m in \u001b[0;36m<module>\u001b[0;34m\u001b[0m\n\u001b[0;32m----> 1\u001b[0;31m \u001b[0mrfutils\u001b[0m\u001b[0;34m.\u001b[0m\u001b[0mcalculate_overlap\u001b[0m\u001b[0;34m(\u001b[0m\u001b[0mrf_poly\u001b[0m\u001b[0;34m,\u001b[0m \u001b[0mspoly\u001b[0m\u001b[0;34m.\u001b[0m\u001b[0mbuffer\u001b[0m\u001b[0;34m[\u001b[0m\u001b[0;36m0\u001b[0m\u001b[0;34m]\u001b[0m\u001b[0;34m)\u001b[0m\u001b[0;34m\u001b[0m\u001b[0;34m\u001b[0m\u001b[0m\n\u001b[0m",
      "\u001b[0;31mTypeError\u001b[0m: 'method' object is not subscriptable"
     ]
    }
   ],
   "source": [
    "rfutils.calculate_overlap(rf_poly, spoly.buffer[0])"
   ]
  },
  {
   "cell_type": "code",
   "execution_count": 44,
   "id": "industrial-orlando",
   "metadata": {},
   "outputs": [
    {
     "ename": "TypeError",
     "evalue": "unsupported operand type(s) for +: 'Polygon' and 'Polygon'",
     "output_type": "error",
     "traceback": [
      "\u001b[0;31m---------------------------------------------------------------------------\u001b[0m",
      "\u001b[0;31mTypeError\u001b[0m                                 Traceback (most recent call last)",
      "\u001b[0;32m<ipython-input-44-e5dc2a3ac8a5>\u001b[0m in \u001b[0;36m<module>\u001b[0;34m\u001b[0m\n\u001b[0;32m----> 1\u001b[0;31m \u001b[0mrf_poly\u001b[0m \u001b[0;34m+\u001b[0m \u001b[0mspoly\u001b[0m\u001b[0;34m\u001b[0m\u001b[0;34m\u001b[0m\u001b[0m\n\u001b[0m",
      "\u001b[0;31mTypeError\u001b[0m: unsupported operand type(s) for +: 'Polygon' and 'Polygon'"
     ]
    }
   ],
   "source": [
    "rf_poly + spoly"
   ]
  },
  {
   "cell_type": "code",
   "execution_count": 45,
   "id": "verbal-tracker",
   "metadata": {},
   "outputs": [
    {
     "name": "stderr",
     "output_type": "stream",
     "text": [
      "TopologyException: Input geom 0 is invalid: Self-intersection at or near point 1917 543 at 1917 543\n"
     ]
    },
    {
     "ename": "TopologicalError",
     "evalue": "The operation 'GEOSIntersection_r' could not be performed. Likely cause is invalidity of the geometry <shapely.geometry.polygon.Polygon object at 0x2b6bf9a23ed0>",
     "output_type": "error",
     "traceback": [
      "\u001b[0;31m---------------------------------------------------------------------------\u001b[0m",
      "\u001b[0;31mTopologicalError\u001b[0m                          Traceback (most recent call last)",
      "\u001b[0;32m<ipython-input-45-e8b8d6558f02>\u001b[0m in \u001b[0;36m<module>\u001b[0;34m\u001b[0m\n\u001b[0;32m----> 1\u001b[0;31m \u001b[0mrf_poly\u001b[0m\u001b[0;34m.\u001b[0m\u001b[0mintersection\u001b[0m\u001b[0;34m(\u001b[0m\u001b[0mspoly\u001b[0m\u001b[0;34m)\u001b[0m\u001b[0;34m\u001b[0m\u001b[0;34m\u001b[0m\u001b[0m\n\u001b[0m",
      "\u001b[0;32m/n/coxfs01/2p-pipeline/envs/rat2p/lib/python3.7/site-packages/shapely/geometry/base.py\u001b[0m in \u001b[0;36mintersection\u001b[0;34m(self, other)\u001b[0m\n\u001b[1;32m    674\u001b[0m     \u001b[0;32mdef\u001b[0m \u001b[0mintersection\u001b[0m\u001b[0;34m(\u001b[0m\u001b[0mself\u001b[0m\u001b[0;34m,\u001b[0m \u001b[0mother\u001b[0m\u001b[0;34m)\u001b[0m\u001b[0;34m:\u001b[0m\u001b[0;34m\u001b[0m\u001b[0;34m\u001b[0m\u001b[0m\n\u001b[1;32m    675\u001b[0m         \u001b[0;34m\"\"\"Returns the intersection of the geometries\"\"\"\u001b[0m\u001b[0;34m\u001b[0m\u001b[0;34m\u001b[0m\u001b[0m\n\u001b[0;32m--> 676\u001b[0;31m         \u001b[0;32mreturn\u001b[0m \u001b[0mgeom_factory\u001b[0m\u001b[0;34m(\u001b[0m\u001b[0mself\u001b[0m\u001b[0;34m.\u001b[0m\u001b[0mimpl\u001b[0m\u001b[0;34m[\u001b[0m\u001b[0;34m'intersection'\u001b[0m\u001b[0;34m]\u001b[0m\u001b[0;34m(\u001b[0m\u001b[0mself\u001b[0m\u001b[0;34m,\u001b[0m \u001b[0mother\u001b[0m\u001b[0;34m)\u001b[0m\u001b[0;34m)\u001b[0m\u001b[0;34m\u001b[0m\u001b[0;34m\u001b[0m\u001b[0m\n\u001b[0m\u001b[1;32m    677\u001b[0m \u001b[0;34m\u001b[0m\u001b[0m\n\u001b[1;32m    678\u001b[0m     \u001b[0;32mdef\u001b[0m \u001b[0msymmetric_difference\u001b[0m\u001b[0;34m(\u001b[0m\u001b[0mself\u001b[0m\u001b[0;34m,\u001b[0m \u001b[0mother\u001b[0m\u001b[0;34m)\u001b[0m\u001b[0;34m:\u001b[0m\u001b[0;34m\u001b[0m\u001b[0;34m\u001b[0m\u001b[0m\n",
      "\u001b[0;32m/n/coxfs01/2p-pipeline/envs/rat2p/lib/python3.7/site-packages/shapely/topology.py\u001b[0m in \u001b[0;36m__call__\u001b[0;34m(self, this, other, *args)\u001b[0m\n\u001b[1;32m     68\u001b[0m             err = TopologicalError(\n\u001b[1;32m     69\u001b[0m                     \"This operation could not be performed. Reason: unknown\")\n\u001b[0;32m---> 70\u001b[0;31m             \u001b[0mself\u001b[0m\u001b[0;34m.\u001b[0m\u001b[0m_check_topology\u001b[0m\u001b[0;34m(\u001b[0m\u001b[0merr\u001b[0m\u001b[0;34m,\u001b[0m \u001b[0mthis\u001b[0m\u001b[0;34m,\u001b[0m \u001b[0mother\u001b[0m\u001b[0;34m)\u001b[0m\u001b[0;34m\u001b[0m\u001b[0;34m\u001b[0m\u001b[0m\n\u001b[0m\u001b[1;32m     71\u001b[0m         \u001b[0;32mreturn\u001b[0m \u001b[0mproduct\u001b[0m\u001b[0;34m\u001b[0m\u001b[0;34m\u001b[0m\u001b[0m\n\u001b[1;32m     72\u001b[0m \u001b[0;34m\u001b[0m\u001b[0m\n",
      "\u001b[0;32m/n/coxfs01/2p-pipeline/envs/rat2p/lib/python3.7/site-packages/shapely/topology.py\u001b[0m in \u001b[0;36m_check_topology\u001b[0;34m(self, err, *geoms)\u001b[0m\n\u001b[1;32m     36\u001b[0m                     \u001b[0;34m\"The operation '%s' could not be performed. \"\u001b[0m\u001b[0;34m\u001b[0m\u001b[0;34m\u001b[0m\u001b[0m\n\u001b[1;32m     37\u001b[0m                     \"Likely cause is invalidity of the geometry %s\" % (\n\u001b[0;32m---> 38\u001b[0;31m                         self.fn.__name__, repr(geom)))\n\u001b[0m\u001b[1;32m     39\u001b[0m         \u001b[0;32mraise\u001b[0m \u001b[0merr\u001b[0m\u001b[0;34m\u001b[0m\u001b[0;34m\u001b[0m\u001b[0m\n\u001b[1;32m     40\u001b[0m \u001b[0;34m\u001b[0m\u001b[0m\n",
      "\u001b[0;31mTopologicalError\u001b[0m: The operation 'GEOSIntersection_r' could not be performed. Likely cause is invalidity of the geometry <shapely.geometry.polygon.Polygon object at 0x2b6bf9a23ed0>"
     ]
    }
   ],
   "source": [
    " rf_poly.intersection(spoly)"
   ]
  },
  {
   "cell_type": "code",
   "execution_count": 52,
   "id": "complimentary-underwear",
   "metadata": {},
   "outputs": [
    {
     "ename": "ImportError",
     "evalue": "cannot import name 'make_valid' from 'shapely.validation' (/n/coxfs01/2p-pipeline/envs/rat2p/lib/python3.7/site-packages/shapely/validation.py)",
     "output_type": "error",
     "traceback": [
      "\u001b[0;31m---------------------------------------------------------------------------\u001b[0m",
      "\u001b[0;31mImportError\u001b[0m                               Traceback (most recent call last)",
      "\u001b[0;32m<ipython-input-52-ee1fa0870df2>\u001b[0m in \u001b[0;36m<module>\u001b[0;34m\u001b[0m\n\u001b[0;32m----> 1\u001b[0;31m \u001b[0;32mfrom\u001b[0m \u001b[0mshapely\u001b[0m\u001b[0;34m.\u001b[0m\u001b[0mvalidation\u001b[0m \u001b[0;32mimport\u001b[0m \u001b[0mmake_valid\u001b[0m\u001b[0;34m\u001b[0m\u001b[0;34m\u001b[0m\u001b[0m\n\u001b[0m",
      "\u001b[0;31mImportError\u001b[0m: cannot import name 'make_valid' from 'shapely.validation' (/n/coxfs01/2p-pipeline/envs/rat2p/lib/python3.7/site-packages/shapely/validation.py)"
     ]
    }
   ],
   "source": [
    "from shapely.validation import make_valid"
   ]
  },
  {
   "cell_type": "code",
   "execution_count": 51,
   "id": "stylish-recovery",
   "metadata": {},
   "outputs": [
    {
     "ename": "AttributeError",
     "evalue": "module 'shapely.validation' has no attribute 'make_valid'",
     "output_type": "error",
     "traceback": [
      "\u001b[0;31m---------------------------------------------------------------------------\u001b[0m",
      "\u001b[0;31mAttributeError\u001b[0m                            Traceback (most recent call last)",
      "\u001b[0;32m<ipython-input-51-7237fabed0d7>\u001b[0m in \u001b[0;36m<module>\u001b[0;34m\u001b[0m\n\u001b[0;32m----> 1\u001b[0;31m \u001b[0mvalidation\u001b[0m\u001b[0;34m.\u001b[0m\u001b[0mmake_valid\u001b[0m\u001b[0;34m\u001b[0m\u001b[0;34m\u001b[0m\u001b[0m\n\u001b[0m",
      "\u001b[0;31mAttributeError\u001b[0m: module 'shapely.validation' has no attribute 'make_valid'"
     ]
    }
   ],
   "source": [
    "validation.make_valid\n"
   ]
  },
  {
   "cell_type": "code",
   "execution_count": null,
   "id": "sensitive-classic",
   "metadata": {},
   "outputs": [],
   "source": []
  },
  {
   "cell_type": "code",
   "execution_count": null,
   "id": "further-corner",
   "metadata": {},
   "outputs": [],
   "source": [
    "rf_lim = 'percentile'\n",
    "# cells_lim = dec.get_cells_with_matched_rfs(cells0, sdata, rf_lim='percentile')\n",
    "rfdf = dec.get_rfdf(cells0, sdata, do_spherical_correction=False)\n",
    "cells_RF = dec.get_cells_with_rfs(cells0, rfdf)\n",
    "cells_lim, sz_limits = dec.limit_cells_by_rf(cells_RF, rf_lim=rf_lim)\n",
    "\n",
    "sz_lower, sz_upper = sz_limits.loc['lower'].max(), lims.loc['upper'].min()\n",
    "sz_limits"
   ]
  },
  {
   "cell_type": "code",
   "execution_count": null,
   "id": "binding-compromise",
   "metadata": {},
   "outputs": [],
   "source": [
    "print(cells_RF[['visual_area', 'datakey', 'cell']].drop_duplicates()\\\n",
    "      ['visual_area'].value_counts().to_markdown())"
   ]
  },
  {
   "cell_type": "code",
   "execution_count": null,
   "id": "warming-tumor",
   "metadata": {},
   "outputs": [],
   "source": [
    "%matplotlib notebook\n",
    "fig, ax = pl.subplots(figsize=(5,4))\n",
    "sns.stripplot(x='visual_area', y='std_avg', hue='visual_area', \n",
    "             data=cells_RF, ax=ax, order=visual_areas, \n",
    "             palette=area_colors, s=2, zorder=0)\n",
    "sns.pointplot(x='visual_area', y='std_avg',\n",
    "             data=cells_RF, ax=ax, order=visual_areas, join=False, ci='sd',\n",
    "             estimator=np.median, color='k', markers='_', scale=1, zorder=1000,\n",
    "             errwidth=1)\n",
    "\n",
    "# sz_upper_lim=16.6\n",
    "# sz_lower_lim=6.9\n",
    "ax.axhline(y=sz_lower, color='k', ls=':', lw=0.5)\n",
    "ax.axhline(y=sz_upper, color='k', ls=':', lw=0.5)\n",
    "ax.legend_.remove()\n",
    "\n",
    "fig.text(0.01, 0.95, 'Distribution of avg RF size, with median (%s)' % rf_lim)\n",
    "\n",
    "pl.savefig(os.path.join(dst_dir, 'RF_sizes_%s.svg' % rf_lim))\n"
   ]
  },
  {
   "cell_type": "code",
   "execution_count": null,
   "id": "typical-protein",
   "metadata": {},
   "outputs": [],
   "source": [
    "# Compare overlaps"
   ]
  },
  {
   "cell_type": "code",
   "execution_count": null,
   "id": "fifteen-shaft",
   "metadata": {},
   "outputs": [],
   "source": [
    "m1 = 'M%i' % 0\n",
    "m2 = 'M%i' % 106\n",
    "#images, impaths = su.load_stimuli(root='/n/home00/juliana.rhee', return_paths=True)\n",
    "#print(\"im shape:\", images['M0'].shape)\n",
    "images = su.load_stimuli()\n",
    "f, axn = pl.subplots(1,2, figsize=(5,2))\n",
    "axn[0].imshow(images[m1]); axn[0].set_title(m1);\n",
    "axn[1].imshow(images[m2]); axn[1].set_title(m2);\n"
   ]
  },
  {
   "cell_type": "code",
   "execution_count": null,
   "id": "loved-allen",
   "metadata": {},
   "outputs": [],
   "source": [
    "## Example fov\n",
    "dk = '20190602_JC091_fov1'\n",
    "va='Li'\n",
    "experiment='blobs'"
   ]
  },
  {
   "cell_type": "code",
   "execution_count": null,
   "id": "second-palestinian",
   "metadata": {},
   "outputs": [],
   "source": []
  },
  {
   "cell_type": "code",
   "execution_count": null,
   "id": "pediatric-retro",
   "metadata": {},
   "outputs": [],
   "source": []
  },
  {
   "cell_type": "code",
   "execution_count": null,
   "id": "musical-conducting",
   "metadata": {},
   "outputs": [],
   "source": [
    "rid=15\n",
    "rf_screen = su.rf_to_screen(rid, curr_rfs, resolution=[1920, 1080])\n",
    "%matplotlib notebook\n",
    "pl.figure()\n",
    "pl.imshow(rf_screen)"
   ]
  },
  {
   "cell_type": "code",
   "execution_count": null,
   "id": "thrown-pottery",
   "metadata": {},
   "outputs": [],
   "source": [
    "stim_polys, stim_screen = su.get_stimulus_polys"
   ]
  },
  {
   "cell_type": "code",
   "execution_count": null,
   "id": "several-metallic",
   "metadata": {},
   "outputs": [],
   "source": []
  },
  {
   "cell_type": "code",
   "execution_count": null,
   "id": "light-dodge",
   "metadata": {},
   "outputs": [],
   "source": [
    "rf = su.image_to_poly(rf_screen)\n",
    "blob = su.image_to_poly(stim_screen.astype(np.uint8))\n",
    "odf = rfutils.calculate_overlap(rf, blob, r1='rf', r2='blob')"
   ]
  }
 ],
 "metadata": {
  "kernelspec": {
   "display_name": "Python 3",
   "language": "python",
   "name": "python3"
  },
  "language_info": {
   "codemirror_mode": {
    "name": "ipython",
    "version": 3
   },
   "file_extension": ".py",
   "mimetype": "text/x-python",
   "name": "python",
   "nbconvert_exporter": "python",
   "pygments_lexer": "ipython3",
   "version": "3.7.10"
  }
 },
 "nbformat": 4,
 "nbformat_minor": 5
}
